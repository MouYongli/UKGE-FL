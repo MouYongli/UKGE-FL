{
 "cells": [
  {
   "cell_type": "code",
   "execution_count": 1,
   "id": "2338987b-6e49-4b0b-b6fd-a77c68b192df",
   "metadata": {},
   "outputs": [],
   "source": [
    "import os\n",
    "import os.path as osp\n",
    "from typing import Any, List, Tuple\n",
    "import numpy as np\n",
    "import pandas as pd\n",
    "\n",
    "import torch\n",
    "from torch import Tensor\n",
    "from torch.utils.data import Dataset, DataLoader\n"
   ]
  },
  {
   "cell_type": "code",
   "execution_count": 2,
   "id": "d71e86b3-2968-4b3b-8ca7-9008177e3e05",
   "metadata": {},
   "outputs": [],
   "source": [
    "root = '../data'\n",
    "dataset = 'cn15k'\n",
    "entity_id = pd.read_csv(os.path.join(root, dataset, 'entity_id.csv'))\n",
    "relation_id = pd.read_csv(os.path.join(root, dataset, 'relation_id.csv'))\n",
    "triples = pd.read_csv(os.path.join(root, dataset, 'data.tsv'), sep='\\t', header=None)\n",
    "train_triples = pd.read_csv(os.path.join(root, dataset, 'train.tsv'), sep='\\t', header=None)\n",
    "val_triples = pd.read_csv(os.path.join(root, dataset, 'val.tsv'), sep='\\t', header=None)\n",
    "test_triples = pd.read_csv(os.path.join(root, dataset, 'test.tsv'), sep='\\t', header=None)"
   ]
  },
  {
   "cell_type": "code",
   "execution_count": 18,
   "id": "da639f85-53b8-432b-99ae-b1b59a7a2992",
   "metadata": {},
   "outputs": [
    {
     "data": {
      "text/html": [
       "<div>\n",
       "<style scoped>\n",
       "    .dataframe tbody tr th:only-of-type {\n",
       "        vertical-align: middle;\n",
       "    }\n",
       "\n",
       "    .dataframe tbody tr th {\n",
       "        vertical-align: top;\n",
       "    }\n",
       "\n",
       "    .dataframe thead th {\n",
       "        text-align: right;\n",
       "    }\n",
       "</style>\n",
       "<table border=\"1\" class=\"dataframe\">\n",
       "  <thead>\n",
       "    <tr style=\"text-align: right;\">\n",
       "      <th></th>\n",
       "      <th>entity string</th>\n",
       "      <th>id</th>\n",
       "    </tr>\n",
       "  </thead>\n",
       "  <tbody>\n",
       "    <tr>\n",
       "      <th>0</th>\n",
       "      <td>pricing</td>\n",
       "      <td>0</td>\n",
       "    </tr>\n",
       "    <tr>\n",
       "      <th>1</th>\n",
       "      <td>flow</td>\n",
       "      <td>1</td>\n",
       "    </tr>\n",
       "    <tr>\n",
       "      <th>2</th>\n",
       "      <td>paul</td>\n",
       "      <td>2</td>\n",
       "    </tr>\n",
       "    <tr>\n",
       "      <th>3</th>\n",
       "      <td>tantalus</td>\n",
       "      <td>3</td>\n",
       "    </tr>\n",
       "    <tr>\n",
       "      <th>4</th>\n",
       "      <td>turkey</td>\n",
       "      <td>4</td>\n",
       "    </tr>\n",
       "  </tbody>\n",
       "</table>\n",
       "</div>"
      ],
      "text/plain": [
       "  entity string  id\n",
       "0       pricing   0\n",
       "1          flow   1\n",
       "2          paul   2\n",
       "3      tantalus   3\n",
       "4        turkey   4"
      ]
     },
     "execution_count": 18,
     "metadata": {},
     "output_type": "execute_result"
    }
   ],
   "source": [
    "entity_id.head()"
   ]
  },
  {
   "cell_type": "code",
   "execution_count": 19,
   "id": "e049f081-a352-4c59-b4c4-4def56ce0f9c",
   "metadata": {},
   "outputs": [
    {
     "data": {
      "text/html": [
       "<div>\n",
       "<style scoped>\n",
       "    .dataframe tbody tr th:only-of-type {\n",
       "        vertical-align: middle;\n",
       "    }\n",
       "\n",
       "    .dataframe tbody tr th {\n",
       "        vertical-align: top;\n",
       "    }\n",
       "\n",
       "    .dataframe thead th {\n",
       "        text-align: right;\n",
       "    }\n",
       "</style>\n",
       "<table border=\"1\" class=\"dataframe\">\n",
       "  <thead>\n",
       "    <tr style=\"text-align: right;\">\n",
       "      <th></th>\n",
       "      <th>relation string</th>\n",
       "      <th>id</th>\n",
       "    </tr>\n",
       "  </thead>\n",
       "  <tbody>\n",
       "    <tr>\n",
       "      <th>0</th>\n",
       "      <td>relatedto</td>\n",
       "      <td>0</td>\n",
       "    </tr>\n",
       "    <tr>\n",
       "      <th>1</th>\n",
       "      <td>hascontext</td>\n",
       "      <td>1</td>\n",
       "    </tr>\n",
       "    <tr>\n",
       "      <th>2</th>\n",
       "      <td>isa</td>\n",
       "      <td>2</td>\n",
       "    </tr>\n",
       "    <tr>\n",
       "      <th>3</th>\n",
       "      <td>synonym</td>\n",
       "      <td>3</td>\n",
       "    </tr>\n",
       "    <tr>\n",
       "      <th>4</th>\n",
       "      <td>atlocation</td>\n",
       "      <td>4</td>\n",
       "    </tr>\n",
       "  </tbody>\n",
       "</table>\n",
       "</div>"
      ],
      "text/plain": [
       "  relation string  id\n",
       "0       relatedto   0\n",
       "1      hascontext   1\n",
       "2             isa   2\n",
       "3         synonym   3\n",
       "4      atlocation   4"
      ]
     },
     "execution_count": 19,
     "metadata": {},
     "output_type": "execute_result"
    }
   ],
   "source": [
    "relation_id.head()"
   ]
  },
  {
   "cell_type": "code",
   "execution_count": 17,
   "id": "4e63383b-9736-48bd-8521-e74c02bc8120",
   "metadata": {},
   "outputs": [
    {
     "data": {
      "text/html": [
       "<div>\n",
       "<style scoped>\n",
       "    .dataframe tbody tr th:only-of-type {\n",
       "        vertical-align: middle;\n",
       "    }\n",
       "\n",
       "    .dataframe tbody tr th {\n",
       "        vertical-align: top;\n",
       "    }\n",
       "\n",
       "    .dataframe thead th {\n",
       "        text-align: right;\n",
       "    }\n",
       "</style>\n",
       "<table border=\"1\" class=\"dataframe\">\n",
       "  <thead>\n",
       "    <tr style=\"text-align: right;\">\n",
       "      <th></th>\n",
       "      <th>0</th>\n",
       "      <th>1</th>\n",
       "      <th>2</th>\n",
       "      <th>3</th>\n",
       "    </tr>\n",
       "  </thead>\n",
       "  <tbody>\n",
       "    <tr>\n",
       "      <th>0</th>\n",
       "      <td>0</td>\n",
       "      <td>0</td>\n",
       "      <td>2571</td>\n",
       "      <td>0.709293</td>\n",
       "    </tr>\n",
       "    <tr>\n",
       "      <th>1</th>\n",
       "      <td>156</td>\n",
       "      <td>0</td>\n",
       "      <td>2571</td>\n",
       "      <td>0.709293</td>\n",
       "    </tr>\n",
       "    <tr>\n",
       "      <th>2</th>\n",
       "      <td>258</td>\n",
       "      <td>0</td>\n",
       "      <td>2571</td>\n",
       "      <td>0.542790</td>\n",
       "    </tr>\n",
       "    <tr>\n",
       "      <th>3</th>\n",
       "      <td>306</td>\n",
       "      <td>0</td>\n",
       "      <td>2571</td>\n",
       "      <td>0.544275</td>\n",
       "    </tr>\n",
       "    <tr>\n",
       "      <th>4</th>\n",
       "      <td>356</td>\n",
       "      <td>0</td>\n",
       "      <td>2571</td>\n",
       "      <td>0.709293</td>\n",
       "    </tr>\n",
       "  </tbody>\n",
       "</table>\n",
       "</div>"
      ],
      "text/plain": [
       "     0  1     2         3\n",
       "0    0  0  2571  0.709293\n",
       "1  156  0  2571  0.709293\n",
       "2  258  0  2571  0.542790\n",
       "3  306  0  2571  0.544275\n",
       "4  356  0  2571  0.709293"
      ]
     },
     "execution_count": 17,
     "metadata": {},
     "output_type": "execute_result"
    }
   ],
   "source": [
    "triples.head()"
   ]
  },
  {
   "cell_type": "code",
   "execution_count": 6,
   "id": "71101abb-307e-47e3-8cc4-8d3cc908c16e",
   "metadata": {},
   "outputs": [
    {
     "data": {
      "text/plain": [
       "241158"
      ]
     },
     "execution_count": 6,
     "metadata": {},
     "output_type": "execute_result"
    }
   ],
   "source": [
    "len(triples)"
   ]
  },
  {
   "cell_type": "code",
   "execution_count": 7,
   "id": "962c934c-7e2f-4621-9250-ea2bf0cb73d4",
   "metadata": {},
   "outputs": [
    {
     "data": {
      "text/plain": [
       "241158"
      ]
     },
     "execution_count": 7,
     "metadata": {},
     "output_type": "execute_result"
    }
   ],
   "source": [
    "len(train_triples)+len(val_triples)+len(test_triples)"
   ]
  },
  {
   "cell_type": "code",
   "execution_count": 11,
   "id": "623fe66d-8da6-44b8-b698-db1185af7231",
   "metadata": {},
   "outputs": [
    {
     "data": {
      "text/plain": [
       "array([2.60000000e+02, 2.00000000e+00, 1.38950000e+04, 8.92708786e-01])"
      ]
     },
     "execution_count": 11,
     "metadata": {},
     "output_type": "execute_result"
    }
   ],
   "source": [
    "train_triples.to_numpy()[0]"
   ]
  },
  {
   "cell_type": "code",
   "execution_count": 14,
   "id": "3e6b98cf-6b27-4c38-a5a1-c5b094ff6938",
   "metadata": {},
   "outputs": [],
   "source": [
    "tph_array = np.zeros((len(relation_id), len(entity_id)))\n",
    "hpt_array = np.zeros((len(relation_id), len(entity_id)))\n",
    "for h_, r_, t_, w in triples.to_numpy():  # only training data\n",
    "    h, r, t = int(h_), int(r_), int(t_)\n",
    "    tph_array[r][h] += 1.\n",
    "    hpt_array[r][t] += 1.\n",
    "tph = np.mean(tph_array, axis=1)\n",
    "hpt = np.mean(hpt_array, axis=1)"
   ]
  },
  {
   "cell_type": "code",
   "execution_count": 16,
   "id": "0ea6bc61-3444-44ba-9b74-5d4d7da844f4",
   "metadata": {},
   "outputs": [
    {
     "data": {
      "text/plain": [
       "((36,), (36,))"
      ]
     },
     "execution_count": 16,
     "metadata": {},
     "output_type": "execute_result"
    }
   ],
   "source": [
    "tph.shape, hpt.shape"
   ]
  },
  {
   "cell_type": "code",
   "execution_count": 20,
   "id": "7213bb8e-b46e-46c2-905a-28f41aea3dc2",
   "metadata": {},
   "outputs": [],
   "source": [
    "cons = []\n",
    "index_cons = {}\n",
    "# Load data into cons and index_cons\n",
    "for _, row in entity_id.iterrows():\n",
    "    # Add entity to cons list\n",
    "    cons.append(row['entity string'])\n",
    "    # Add entity and id mapping to index_cons dictionary\n",
    "    index_cons[row['entity string']] = row['id']"
   ]
  },
  {
   "cell_type": "code",
   "execution_count": null,
   "id": "4d99f47b-26a2-48ec-a94d-2d9c0ff4ff46",
   "metadata": {},
   "outputs": [],
   "source": []
  },
  {
   "cell_type": "code",
   "execution_count": null,
   "id": "c103a44d-c5fb-435e-983f-87ef8965f81c",
   "metadata": {},
   "outputs": [],
   "source": []
  }
 ],
 "metadata": {
  "kernelspec": {
   "display_name": "ukge",
   "language": "python",
   "name": "ukge"
  },
  "language_info": {
   "codemirror_mode": {
    "name": "ipython",
    "version": 3
   },
   "file_extension": ".py",
   "mimetype": "text/x-python",
   "name": "python",
   "nbconvert_exporter": "python",
   "pygments_lexer": "ipython3",
   "version": "3.11.8"
  }
 },
 "nbformat": 4,
 "nbformat_minor": 5
}
