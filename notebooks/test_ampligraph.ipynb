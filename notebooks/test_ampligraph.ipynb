{
 "cells": [
  {
   "cell_type": "code",
   "execution_count": 2,
   "metadata": {},
   "outputs": [
    {
     "name": "stderr",
     "output_type": "stream",
     "text": [
      "2024-08-06 13:45:24.157412: I tensorflow/core/util/port.cc:153] oneDNN custom operations are on. You may see slightly different numerical results due to floating-point round-off errors from different computation orders. To turn them off, set the environment variable `TF_ENABLE_ONEDNN_OPTS=0`.\n",
      "2024-08-06 13:45:24.175524: E external/local_xla/xla/stream_executor/cuda/cuda_fft.cc:485] Unable to register cuFFT factory: Attempting to register factory for plugin cuFFT when one has already been registered\n",
      "2024-08-06 13:45:24.193551: E external/local_xla/xla/stream_executor/cuda/cuda_dnn.cc:8454] Unable to register cuDNN factory: Attempting to register factory for plugin cuDNN when one has already been registered\n",
      "2024-08-06 13:45:24.198833: E external/local_xla/xla/stream_executor/cuda/cuda_blas.cc:1452] Unable to register cuBLAS factory: Attempting to register factory for plugin cuBLAS when one has already been registered\n",
      "2024-08-06 13:45:24.215186: I tensorflow/core/platform/cpu_feature_guard.cc:210] This TensorFlow binary is optimized to use available CPU instructions in performance-critical operations.\n",
      "To enable the following instructions: AVX2 AVX512F AVX512_VNNI FMA, in other operations, rebuild TensorFlow with the appropriate compiler flags.\n",
      "2024-08-06 13:45:24.995571: W tensorflow/compiler/tf2tensorrt/utils/py_utils.cc:38] TF-TRT Warning: Could not find TensorRT\n"
     ]
    }
   ],
   "source": [
    "import os\n",
    "os.environ['AMPLIGRAPH_DATA_HOME'] = \"/home/mou/Projects/UKGE-FL/.ampligraph_datasets\"\n",
    "from ampligraph.datasets import load_nl27k\n",
    "X = load_nl27k()\n",
    "# X[\"train\"]\n",
    "# X['train_numeric_values']"
   ]
  },
  {
   "cell_type": "code",
   "execution_count": 4,
   "metadata": {},
   "outputs": [
    {
     "data": {
      "text/plain": [
       "dict_keys(['train', 'valid', 'test', 'train_numeric_values', 'valid_numeric_values', 'test_numeric_values', 'test_bottomk', 'test_bottomk_numeric_values', 'test_topk', 'test_topk_numeric_values'])"
      ]
     },
     "execution_count": 4,
     "metadata": {},
     "output_type": "execute_result"
    }
   ],
   "source": [
    "X.keys()"
   ]
  },
  {
   "cell_type": "code",
   "execution_count": 7,
   "metadata": {},
   "outputs": [
    {
     "data": {
      "text/plain": [
       "array([['concept:country:us',\n",
       "        'concept:countryoforganizationheadquarters',\n",
       "        'concept:governmentorganization:california_department'],\n",
       "       ['concept:city:london', 'concept:cityhascompanyoffice',\n",
       "        'concept:company:google'],\n",
       "       ['concept:hotel:trump_international', 'concept:hotelincity',\n",
       "        'concept:city:las_vegas'],\n",
       "       ...,\n",
       "       ['concept:vegetable:spinach',\n",
       "        'concept:inverseofagriculturalproductcookedwithagricultureproduct',\n",
       "        'concept:vegetable:vegetables'],\n",
       "       ['concept:city:longmont', 'concept:locationlocatedwithinlocation',\n",
       "        'concept:stateorprovince:colorado'],\n",
       "       ['concept:televisionstation:kbcw', 'concept:hasofficeincity',\n",
       "        'concept:city:san_francisco']], dtype=object)"
      ]
     },
     "execution_count": 7,
     "metadata": {},
     "output_type": "execute_result"
    }
   ],
   "source": []
  }
 ],
 "metadata": {
  "kernelspec": {
   "display_name": "ukge",
   "language": "python",
   "name": "python3"
  },
  "language_info": {
   "codemirror_mode": {
    "name": "ipython",
    "version": 3
   },
   "file_extension": ".py",
   "mimetype": "text/x-python",
   "name": "python",
   "nbconvert_exporter": "python",
   "pygments_lexer": "ipython3",
   "version": "3.11.8"
  }
 },
 "nbformat": 4,
 "nbformat_minor": 2
}
