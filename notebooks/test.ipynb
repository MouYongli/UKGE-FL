{
 "cells": [
  {
   "cell_type": "code",
   "execution_count": 15,
   "metadata": {},
   "outputs": [],
   "source": [
    "import os\n",
    "import os.path as osp\n",
    "from typing import Any, List, Tuple\n",
    "import numpy as np\n",
    "import pandas as pd"
   ]
  },
  {
   "cell_type": "code",
   "execution_count": null,
   "metadata": {},
   "outputs": [],
   "source": []
  },
  {
   "cell_type": "code",
   "execution_count": 16,
   "metadata": {},
   "outputs": [],
   "source": [
    "base_path = \"/home/mou/Projects/UKGE-FL/data\"\n",
    "datasets = [\"cn15k\", \"nl27k\", \"ppi5k\"]\n",
    "dataset = datasets[2]\n",
    "data_path = osp.join(base_path, dataset, \"data.tsv\")\n",
    "test_data_path = osp.join(base_path, dataset, \"test.tsv\")\n",
    "test_neg_data_path = osp.join(base_path, dataset, \"test_with_neg.tsv\")\n",
    "data_df =  pd.read_csv(data_path  , sep='\\t', header=None)\n",
    "test_df =  pd.read_csv(test_data_path  , sep='\\t', header=None)\n",
    "test_neg_df =  pd.read_csv(test_neg_data_path  , sep='\\t', header=None)\n",
    "k=200"
   ]
  },
  {
   "cell_type": "code",
   "execution_count": 17,
   "metadata": {},
   "outputs": [
    {
     "data": {
      "text/plain": [
       "(21720, 43440)"
      ]
     },
     "execution_count": 17,
     "metadata": {},
     "output_type": "execute_result"
    }
   ],
   "source": [
    "len(test_df), len(test_neg_df) "
   ]
  },
  {
   "cell_type": "code",
   "execution_count": 18,
   "metadata": {},
   "outputs": [],
   "source": [
    "hr_ts_map = {}\n",
    "hr_all_ts_map = {}\n",
    "topk_hr_all_ts_map = {}\n",
    "for h_, r_, t_, w in test_df.to_numpy():\n",
    "    h, r, t = int(h_), int(r_), int(t_)\n",
    "    if hr_ts_map.get(h) == None:\n",
    "        hr_ts_map[h] = {}\n",
    "        hr_all_ts_map[h] = {}\n",
    "    if hr_ts_map[h].get(r) == None:\n",
    "        hr_ts_map[h][r] = {t: w}\n",
    "        hr_all_ts_map[h][r] = {t: w}\n",
    "    else:\n",
    "        hr_ts_map[h][r][t] = w\n",
    "        hr_all_ts_map[h][r][t] = w\n",
    "for h_, r_, t_, w in data_df.to_numpy():\n",
    "    h, r, t = int(h_), int(r_), int(t_)\n",
    "    if h in hr_all_ts_map and r in hr_all_ts_map[h]:\n",
    "        hr_all_ts_map[h][r][t] = w\n",
    "hr_num_t = {(h, r): len(hr_all_ts_map[h][r]) for h in hr_all_ts_map.keys() for r in hr_all_ts_map[h].keys()}\n",
    "topk_hr_num_t = sorted(hr_num_t.items(), key=lambda item: item[1], reverse=True)[:k]\n",
    "for (h, r), _ in topk_hr_num_t:\n",
    "    if h not in topk_hr_all_ts_map:\n",
    "        topk_hr_all_ts_map[h] = {}\n",
    "    if r not in topk_hr_all_ts_map[h]:\n",
    "        topk_hr_all_ts_map[h][r] = hr_all_ts_map[h][r]"
   ]
  },
  {
   "cell_type": "code",
   "execution_count": 19,
   "metadata": {},
   "outputs": [
    {
     "data": {
      "text/plain": [
       "5634"
      ]
     },
     "execution_count": 19,
     "metadata": {},
     "output_type": "execute_result"
    }
   ],
   "source": [
    "# cn15k 12224;\n",
    "# nl27k 9563;\n",
    "# ppi5k 5634;\n",
    "len(hr_num_t)"
   ]
  },
  {
   "cell_type": "code",
   "execution_count": 20,
   "metadata": {},
   "outputs": [
    {
     "name": "stdout",
     "output_type": "stream",
     "text": [
      "200 25398\n"
     ]
    }
   ],
   "source": [
    "count = 0\n",
    "count_entity = 0\n",
    "for h in topk_hr_all_ts_map.keys():\n",
    "    for r in topk_hr_all_ts_map[h].keys():\n",
    "        count += 1\n",
    "        count_entity += len(topk_hr_all_ts_map[h][r])\n",
    "print(count, count_entity)"
   ]
  },
  {
   "cell_type": "code",
   "execution_count": 4,
   "metadata": {},
   "outputs": [
    {
     "name": "stderr",
     "output_type": "stream",
     "text": [
      "Hardware accelerator e.g. GPU is available in the environment, but no `device` argument is passed to the `Pipeline` object. Model will be on CPU.\n",
      "Setting `pad_token_id` to `eos_token_id`:128001 for open-end generation.\n"
     ]
    },
    {
     "name": "stdout",
     "output_type": "stream",
     "text": [
      "Once upon a time, there was a boy who loved a girl, and her laughter was a question he wanted to spend his whole life answering.” -Nicole Krauss\n",
      "“A man is already halfway in love with any woman who listens to him.” -Brendan Francis\n",
      "“Love is when the other person’s happiness is more important than your own.” -H. Jackson Brown, Jr.\n",
      "“A man is not where he lives, but where he loves.” -Latin Proverb\n",
      "“Love\n"
     ]
    }
   ],
   "source": [
    "from transformers import pipeline\n",
    "\n",
    "# Initialize the text generation pipeline\n",
    "generator = pipeline('text-generation', model=model, tokenizer=tokenizer, device_map='auto')\n",
    "\n",
    "# Generate text using the model\n",
    "prompt = \"Once upon a time\"\n",
    "generated_text = generator(prompt, max_length=100, num_return_sequences=1)\n",
    "\n",
    "print(generated_text[0]['generated_text'])"
   ]
  }
 ],
 "metadata": {
  "kernelspec": {
   "display_name": "ukge",
   "language": "python",
   "name": "python3"
  },
  "language_info": {
   "codemirror_mode": {
    "name": "ipython",
    "version": 3
   },
   "file_extension": ".py",
   "mimetype": "text/x-python",
   "name": "python",
   "nbconvert_exporter": "python",
   "pygments_lexer": "ipython3",
   "version": "3.11.8"
  }
 },
 "nbformat": 4,
 "nbformat_minor": 2
}
