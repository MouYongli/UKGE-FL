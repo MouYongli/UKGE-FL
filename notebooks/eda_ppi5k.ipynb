{
 "cells": [
  {
   "cell_type": "code",
   "execution_count": 1,
   "metadata": {},
   "outputs": [],
   "source": [
    "import os \n",
    "import os.path as osp\n",
    "import numpy as np\n",
    "import pandas as pd\n",
    "import matplotlib.pyplot as plt\n",
    "import seaborn as sns\n",
    "\n",
    "data_path = osp.join('..', 'data', 'ppi5k')\n",
    "train_path = osp.join(data_path, 'train.tsv')\n",
    "val_path = osp.join(data_path, 'val.tsv')\n",
    "test_path = osp.join(data_path, 'test.tsv')\n",
    "\n",
    "entity_id = pd.read_csv(osp.join(data_path, 'entity_id.csv'))\n",
    "relation_id = pd.read_csv(osp.join(data_path, 'relation_id.csv'))"
   ]
  },
  {
   "cell_type": "code",
   "execution_count": 2,
   "metadata": {},
   "outputs": [
    {
     "data": {
      "text/html": [
       "<div>\n",
       "<style scoped>\n",
       "    .dataframe tbody tr th:only-of-type {\n",
       "        vertical-align: middle;\n",
       "    }\n",
       "\n",
       "    .dataframe tbody tr th {\n",
       "        vertical-align: top;\n",
       "    }\n",
       "\n",
       "    .dataframe thead th {\n",
       "        text-align: right;\n",
       "    }\n",
       "</style>\n",
       "<table border=\"1\" class=\"dataframe\">\n",
       "  <thead>\n",
       "    <tr style=\"text-align: right;\">\n",
       "      <th></th>\n",
       "      <th>0</th>\n",
       "      <th>1</th>\n",
       "      <th>2</th>\n",
       "      <th>3</th>\n",
       "    </tr>\n",
       "  </thead>\n",
       "  <tbody>\n",
       "    <tr>\n",
       "      <th>0</th>\n",
       "      <td>4001</td>\n",
       "      <td>5</td>\n",
       "      <td>4176</td>\n",
       "      <td>0.329</td>\n",
       "    </tr>\n",
       "    <tr>\n",
       "      <th>1</th>\n",
       "      <td>3810</td>\n",
       "      <td>0</td>\n",
       "      <td>4338</td>\n",
       "      <td>0.345</td>\n",
       "    </tr>\n",
       "    <tr>\n",
       "      <th>2</th>\n",
       "      <td>3984</td>\n",
       "      <td>6</td>\n",
       "      <td>4158</td>\n",
       "      <td>0.329</td>\n",
       "    </tr>\n",
       "    <tr>\n",
       "      <th>3</th>\n",
       "      <td>2453</td>\n",
       "      <td>2</td>\n",
       "      <td>2130</td>\n",
       "      <td>0.442</td>\n",
       "    </tr>\n",
       "    <tr>\n",
       "      <th>4</th>\n",
       "      <td>324</td>\n",
       "      <td>5</td>\n",
       "      <td>145</td>\n",
       "      <td>0.366</td>\n",
       "    </tr>\n",
       "  </tbody>\n",
       "</table>\n",
       "</div>"
      ],
      "text/plain": [
       "      0  1     2      3\n",
       "0  4001  5  4176  0.329\n",
       "1  3810  0  4338  0.345\n",
       "2  3984  6  4158  0.329\n",
       "3  2453  2  2130  0.442\n",
       "4   324  5   145  0.366"
      ]
     },
     "execution_count": 2,
     "metadata": {},
     "output_type": "execute_result"
    }
   ],
   "source": [
    "train_df = pd.read_csv(train_path, sep='\\t', header=None)\n",
    "train_df.head()"
   ]
  },
  {
   "cell_type": "code",
   "execution_count": 3,
   "metadata": {},
   "outputs": [
    {
     "name": "stderr",
     "output_type": "stream",
     "text": [
      "/tmp/ipykernel_3418092/2616627044.py:2: UserWarning: \n",
      "\n",
      "`distplot` is a deprecated function and will be removed in seaborn v0.14.0.\n",
      "\n",
      "Please adapt your code to use either `displot` (a figure-level function with\n",
      "similar flexibility) or `histplot` (an axes-level function for histograms).\n",
      "\n",
      "For a guide to updating your code to use the new functions, please see\n",
      "https://gist.github.com/mwaskom/de44147ed2974457ad6372750bbe5751\n",
      "\n",
      "  sns.distplot(train_df[3])\n"
     ]
    },
    {
     "data": {
      "text/plain": [
       "<Axes: xlabel='3', ylabel='Density'>"
      ]
     },
     "execution_count": 3,
     "metadata": {},
     "output_type": "execute_result"
    },
    {
     "data": {
      "image/png": "[encoded data removed]",
      "text/plain": [
       "<Figure size 640x480 with 1 Axes>"
      ]
     },
     "metadata": {},
     "output_type": "display_data"
    }
   ],
   "source": [
    "# plot the distribution of the column 3\n",
    "sns.distplot(train_df[3])"
   ]
  },
  {
   "cell_type": "code",
   "execution_count": 6,
   "metadata": {},
   "outputs": [
    {
     "name": "stdout",
     "output_type": "stream",
     "text": [
      "t=0.00: 100.00\n",
      "t=0.05: 100.00\n",
      "t=0.10: 100.00\n",
      "t=0.15: 99.71\n",
      "t=0.20: 83.55\n",
      "t=0.25: 76.61\n",
      "t=0.30: 67.87\n",
      "t=0.35: 49.88\n",
      "t=0.40: 40.25\n",
      "t=0.45: 35.49\n",
      "t=0.50: 27.05\n",
      "t=0.55: 21.94\n",
      "t=0.60: 15.32\n",
      "t=0.65: 13.33\n",
      "t=0.70: 12.43\n",
      "t=0.75: 11.21\n",
      "t=0.80: 9.68\n",
      "t=0.85: 7.90\n",
      "t=0.90: 4.94\n",
      "t=0.95: 0.47\n"
     ]
    }
   ],
   "source": [
    "for t in np.arange(0, 1, 0.05):\n",
    "    print(f\"t={t:.2f}: {np.sum(train_df[3] > t)*100/len(train_df):.2f}\")"
   ]
  }
 ],
 "metadata": {
  "kernelspec": {
   "display_name": "ukge",
   "language": "python",
   "name": "python3"
  },
  "language_info": {
   "codemirror_mode": {
    "name": "ipython",
    "version": 3
   },
   "file_extension": ".py",
   "mimetype": "text/x-python",
   "name": "python",
   "nbconvert_exporter": "python",
   "pygments_lexer": "ipython3",
   "version": "3.11.8"
  }
 },
 "nbformat": 4,
 "nbformat_minor": 2
}
