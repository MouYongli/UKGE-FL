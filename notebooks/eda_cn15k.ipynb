{
 "cells": [
  {
   "cell_type": "code",
   "execution_count": 5,
   "metadata": {},
   "outputs": [],
   "source": [
    "import os \n",
    "import os.path as osp\n",
    "import numpy as np\n",
    "import pandas as pd\n",
    "import matplotlib.pyplot as plt\n",
    "import seaborn as sns\n",
    "\n",
    "data_path = osp.join('..', 'data', 'cn15k')\n",
    "train_path = osp.join(data_path, 'train.tsv')\n",
    "val_path = osp.join(data_path, 'val.tsv')\n",
    "test_path = osp.join(data_path, 'test.tsv')\n",
    "\n",
    "entity_id = pd.read_csv(osp.join(data_path, 'entity_id.csv'))\n",
    "relation_id = pd.read_csv(osp.join(data_path, 'relation_id.csv'))"
   ]
  },
  {
   "cell_type": "code",
   "execution_count": 6,
   "metadata": {},
   "outputs": [
    {
     "data": {
      "text/html": [
       "<div>\n",
       "<style scoped>\n",
       "    .dataframe tbody tr th:only-of-type {\n",
       "        vertical-align: middle;\n",
       "    }\n",
       "\n",
       "    .dataframe tbody tr th {\n",
       "        vertical-align: top;\n",
       "    }\n",
       "\n",
       "    .dataframe thead th {\n",
       "        text-align: right;\n",
       "    }\n",
       "</style>\n",
       "<table border=\"1\" class=\"dataframe\">\n",
       "  <thead>\n",
       "    <tr style=\"text-align: right;\">\n",
       "      <th></th>\n",
       "      <th>0</th>\n",
       "      <th>1</th>\n",
       "      <th>2</th>\n",
       "      <th>3</th>\n",
       "    </tr>\n",
       "  </thead>\n",
       "  <tbody>\n",
       "    <tr>\n",
       "      <th>0</th>\n",
       "      <td>260</td>\n",
       "      <td>2</td>\n",
       "      <td>13895</td>\n",
       "      <td>0.892709</td>\n",
       "    </tr>\n",
       "    <tr>\n",
       "      <th>1</th>\n",
       "      <td>693</td>\n",
       "      <td>0</td>\n",
       "      <td>9231</td>\n",
       "      <td>0.461485</td>\n",
       "    </tr>\n",
       "    <tr>\n",
       "      <th>2</th>\n",
       "      <td>2281</td>\n",
       "      <td>3</td>\n",
       "      <td>12075</td>\n",
       "      <td>0.709293</td>\n",
       "    </tr>\n",
       "    <tr>\n",
       "      <th>3</th>\n",
       "      <td>8686</td>\n",
       "      <td>2</td>\n",
       "      <td>4571</td>\n",
       "      <td>0.525878</td>\n",
       "    </tr>\n",
       "    <tr>\n",
       "      <th>4</th>\n",
       "      <td>11186</td>\n",
       "      <td>3</td>\n",
       "      <td>11186</td>\n",
       "      <td>0.525878</td>\n",
       "    </tr>\n",
       "  </tbody>\n",
       "</table>\n",
       "</div>"
      ],
      "text/plain": [
       "       0  1      2         3\n",
       "0    260  2  13895  0.892709\n",
       "1    693  0   9231  0.461485\n",
       "2   2281  3  12075  0.709293\n",
       "3   8686  2   4571  0.525878\n",
       "4  11186  3  11186  0.525878"
      ]
     },
     "execution_count": 6,
     "metadata": {},
     "output_type": "execute_result"
    }
   ],
   "source": [
    "train_df = pd.read_csv(train_path, sep='\\t', header=None)\n",
    "train_df.head()"
   ]
  },
  {
   "cell_type": "code",
   "execution_count": 7,
   "metadata": {},
   "outputs": [
    {
     "name": "stderr",
     "output_type": "stream",
     "text": [
      "/tmp/ipykernel_1445715/2616627044.py:2: UserWarning: \n",
      "\n",
      "`distplot` is a deprecated function and will be removed in seaborn v0.14.0.\n",
      "\n",
      "Please adapt your code to use either `displot` (a figure-level function with\n",
      "similar flexibility) or `histplot` (an axes-level function for histograms).\n",
      "\n",
      "For a guide to updating your code to use the new functions, please see\n",
      "https://gist.github.com/mwaskom/de44147ed2974457ad6372750bbe5751\n",
      "\n",
      "  sns.distplot(train_df[3])\n"
     ]
    },
    {
     "data": {
      "text/plain": [
       "<Axes: xlabel='3', ylabel='Density'>"
      ]
     },
     "execution_count": 7,
     "metadata": {},
     "output_type": "execute_result"
    },
    {
     "data": {
      "image/png": "[encoded data removed]",
      "text/plain": [
       "<Figure size 640x480 with 1 Axes>"
      ]
     },
     "metadata": {},
     "output_type": "display_data"
    }
   ],
   "source": [
    "# plot the distribution of the column 3\n",
    "sns.distplot(train_df[3])"
   ]
  },
  {
   "cell_type": "code",
   "execution_count": 8,
   "metadata": {},
   "outputs": [
    {
     "data": {
      "text/plain": [
       "array([0.  , 0.05, 0.1 , 0.15, 0.2 , 0.25, 0.3 , 0.35, 0.4 , 0.45, 0.5 ,\n",
       "       0.55, 0.6 , 0.65, 0.7 , 0.75, 0.8 , 0.85, 0.9 , 0.95])"
      ]
     },
     "execution_count": 8,
     "metadata": {},
     "output_type": "execute_result"
    }
   ],
   "source": [
    "np.arange(0, 1, 0.05)"
   ]
  },
  {
   "cell_type": "code",
   "execution_count": 15,
   "metadata": {},
   "outputs": [
    {
     "name": "stdout",
     "output_type": "stream",
     "text": [
      "t=0.5 0.7678843226788432\n",
      "t=0.55 0.6803067556492214\n",
      "t=0.6 0.6698132537173633\n",
      "t=0.65 0.66030519455177\n",
      "t=0.7 0.6525972758849471\n",
      "t=0.75 0.2152899738516177\n",
      "t=0.8 0.2088211762869297\n",
      "t=0.85 0.2034890528041213\n",
      "t=0.9 0.0329879405221871\n",
      "t=0.95 0.02895347929594505\n"
     ]
    }
   ],
   "source": [
    "print('t=0.5', np.sum(train_df[3] > 0.5) / len(train_df))\n",
    "print('t=0.55', np.sum(train_df[3] > 0.55) / len(train_df))\n",
    "print('t=0.6', np.sum(train_df[3] > 0.6) / len(train_df))\n",
    "print('t=0.65', np.sum(train_df[3] > 0.65) / len(train_df))\n",
    "print('t=0.7', np.sum(train_df[3] > 0.7) / len(train_df))\n",
    "print('t=0.75', np.sum(train_df[3] > 0.75) / len(train_df))\n",
    "print('t=0.8', np.sum(train_df[3] > 0.8) / len(train_df))\n",
    "print('t=0.85', np.sum(train_df[3] > 0.85) / len(train_df))\n",
    "print('t=0.9', np.sum(train_df[3] > 0.9) / len(train_df))\n",
    "print('t=0.95', np.sum(train_df[3] > 0.95) / len(train_df))"
   ]
  }
 ],
 "metadata": {
  "kernelspec": {
   "display_name": "ukge",
   "language": "python",
   "name": "python3"
  },
  "language_info": {
   "codemirror_mode": {
    "name": "ipython",
    "version": 3
   },
   "file_extension": ".py",
   "mimetype": "text/x-python",
   "name": "python",
   "nbconvert_exporter": "python",
   "pygments_lexer": "ipython3",
   "version": "3.11.8"
  }
 },
 "nbformat": 4,
 "nbformat_minor": 2
}
