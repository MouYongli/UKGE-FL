{
 "cells": [
  {
   "cell_type": "code",
   "execution_count": 1,
   "metadata": {},
   "outputs": [],
   "source": [
    "import os\n",
    "import os.path as osp\n",
    "import numpy as np\n",
    "import pandas as pd\n",
    "import argparse\n",
    "\n",
    "from ukge.datasets import KGTripleDataset\n",
    "from ukge.models import TransE, DistMult, ComplEx, RotatE\n",
    "from ukge.losses import compute_det_transe_distmult_loss, compute_det_complex_loss, compute_det_rotate_loss\n",
    "from ukge.metrics import Evaluator\n",
    "\n",
    "import torch\n",
    "import torch.optim as optim\n",
    "import torch.nn as nn\n",
    "from torch.utils.data import DataLoader\n",
    "\n",
    "model_map = {\n",
    "    'transe': TransE,\n",
    "    'distmult': DistMult,\n",
    "    'complex': ComplEx,\n",
    "    'rotate': RotatE\n",
    "}\n",
    "\n",
    "loss_map = {\n",
    "    'transe': compute_det_transe_distmult_loss,\n",
    "    'distmult': compute_det_transe_distmult_loss,\n",
    "    'complex': compute_det_complex_loss,\n",
    "    'rotate': compute_det_rotate_loss\n",
    "}\n",
    "\n",
    "model = 'distmult'\n",
    "dataset = 'nl27k'\n",
    "confidence_score_function = 'logi'\n",
    "hidden_dim = 128\n",
    "num_neg_per_positive = 10\n",
    "batch_size = 1024\n",
    "lr = 0.01\n",
    "weight_decay = 0.0\n",
    "topk = True\n",
    "k = 200\n",
    "fc_layers = 'l1'\n",
    "bias = False\n",
    "\n",
    "model_checkpoint_path = '/home/mou/Projects/UKGE-FL/results/unc_nl27k_distmult_confi_logi_fc_l1_bias_False_dim_128/lr_0.01_wd_0.0/best_model_ndcg_exp_topk.pth'"
   ]
  },
  {
   "cell_type": "code",
   "execution_count": 2,
   "metadata": {},
   "outputs": [
    {
     "name": "stdout",
     "output_type": "stream",
     "text": [
      "100 0.9764498685967543\n"
     ]
    }
   ],
   "source": [
    "train_dataset = KGTripleDataset(dataset=dataset, split='train', num_neg_per_positive=num_neg_per_positive)\n",
    "val_dataset = KGTripleDataset(dataset=dataset, split='val', topk=topk, k=k)\n",
    "test_dataset = KGTripleDataset(dataset=dataset, split='test', topk=topk, k=k)\n",
    "test_with_neg_dataset = KGTripleDataset(dataset=dataset, split='test', topk=topk, k=k, test_with_neg=True)\n",
    "\n",
    "train_dataloader = DataLoader(train_dataset, batch_size=batch_size, shuffle=True)\n",
    "val_dataloader = DataLoader(val_dataset, batch_size=batch_size, shuffle=False)\n",
    "test_dataloader = DataLoader(test_dataset, batch_size=batch_size, shuffle=False)\n",
    "test_with_neg_dataloader = DataLoader(test_with_neg_dataset, batch_size=batch_size, shuffle=False)\n",
    "\n",
    "device = torch.device('cuda' if torch.cuda.is_available() else 'cpu')\n",
    "model = model_map[model](num_nodes=train_dataset.num_cons(), num_relations=train_dataset.num_rels(), hidden_channels=hidden_dim, confidence_score_function=confidence_score_function, fc_layers=fc_layers, bias=bias)\n",
    "checkpoint = torch.load(model_checkpoint_path)\n",
    "print(checkpoint['best_ndcg_exp_topk_epoch'], checkpoint['best_ndcg_exp_topk'])\n",
    "model.load_state_dict(checkpoint['state_dict'])\n",
    "model = model.to(device)\n",
    "\n",
    "# criterion = nn.MSELoss()\n",
    "# optimizer = optim.Adam(model.parameters(), betas=(0.9, 0.999), lr=lr, weight_decay=weight_decay)\n",
    "\n",
    "val_evaluator = Evaluator(val_dataloader, model, batch_size=batch_size, device=device, topk=topk)\n",
    "test_evaluator = Evaluator(test_dataloader, model, batch_size=batch_size, device=device, topk=topk)\n",
    "test_with_neg_evaluator = Evaluator(test_with_neg_dataloader, model, batch_size=batch_size, device=device, topk=topk)"
   ]
  },
  {
   "cell_type": "code",
   "execution_count": 3,
   "metadata": {},
   "outputs": [
    {
     "data": {
      "text/plain": [
       "{205: {},\n",
       " 363: {},\n",
       " 170: {},\n",
       " 290: {},\n",
       " 315: {},\n",
       " 334: {},\n",
       " 354: {},\n",
       " 178: {},\n",
       " 200: {},\n",
       " 406: {}}"
      ]
     },
     "execution_count": 3,
     "metadata": {},
     "output_type": "execute_result"
    }
   ],
   "source": [
    "val_evaluator.hr_tp_map[18365]"
   ]
  },
  {
   "cell_type": "code",
   "execution_count": 4,
   "metadata": {},
   "outputs": [
    {
     "name": "stdout",
     "output_type": "stream",
     "text": [
      "Updating hr_tp_map...\n",
      "Updating hr_all_tp_map...\n"
     ]
    }
   ],
   "source": [
    "model.eval()\n",
    "val_evaluator.update()\n",
    "val_mean_ndcg = val_evaluator.get_mean_ndcg()\n",
    "val_mse = val_evaluator.get_mse()\n",
    "val_mae = val_evaluator.get_mae()"
   ]
  },
  {
   "cell_type": "code",
   "execution_count": 5,
   "metadata": {},
   "outputs": [
    {
     "data": {
      "text/plain": [
       "((0.9763407566514783, 0.9764498685967544),\n",
       " 0.05046775049955602,\n",
       " 0.12886432108325382)"
      ]
     },
     "execution_count": 5,
     "metadata": {},
     "output_type": "execute_result"
    }
   ],
   "source": [
    "val_mean_ndcg, val_mse, val_mae"
   ]
  }
 ],
 "metadata": {
  "kernelspec": {
   "display_name": "ukge",
   "language": "python",
   "name": "python3"
  },
  "language_info": {
   "codemirror_mode": {
    "name": "ipython",
    "version": 3
   },
   "file_extension": ".py",
   "mimetype": "text/x-python",
   "name": "python",
   "nbconvert_exporter": "python",
   "pygments_lexer": "ipython3",
   "version": "3.11.8"
  }
 },
 "nbformat": 4,
 "nbformat_minor": 2
}
