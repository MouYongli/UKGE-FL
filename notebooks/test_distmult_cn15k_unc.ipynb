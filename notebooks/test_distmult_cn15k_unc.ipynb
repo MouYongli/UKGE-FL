{
 "cells": [
  {
   "cell_type": "code",
   "execution_count": 26,
   "metadata": {},
   "outputs": [],
   "source": [
    "import os\n",
    "import os.path as osp\n",
    "import numpy as np\n",
    "import pandas as pd\n",
    "import argparse\n",
    "\n",
    "from ukge.datasets import KGTripleDataset\n",
    "from ukge.models import TransE, DistMult, ComplEx, RotatE\n",
    "from ukge.losses import compute_det_transe_distmult_loss, compute_det_complex_loss, compute_det_rotate_loss\n",
    "from ukge.metrics import Evaluator\n",
    "\n",
    "import torch\n",
    "import torch.optim as optim\n",
    "import torch.nn as nn\n",
    "from torch.utils.data import DataLoader\n",
    "# from torch.utils.tensorboard import SummaryWriter\n",
    "\n",
    "os.environ[\"CUDA_VISIBLE_DEVICES\"] = \"0\"\n",
    "# os.environ[\"CUDA_LAUNCH_BLOCKING\"] = \"1\"\n",
    "\n",
    "model_map = {\n",
    "    'transe': TransE,\n",
    "    'distmult': DistMult,\n",
    "    'complex': ComplEx,\n",
    "    'rotate': RotatE\n",
    "}\n",
    "\n",
    "loss_map = {\n",
    "    'transe': compute_det_transe_distmult_loss,\n",
    "    'distmult': compute_det_transe_distmult_loss,\n",
    "    'complex': compute_det_complex_loss,\n",
    "    'rotate': compute_det_rotate_loss\n",
    "}\n",
    "\n",
    "model = 'distmult'\n",
    "dataset = 'cn15k'\n",
    "confidence_score_function = 'logi'\n",
    "hidden_dim = 128\n",
    "num_neg_per_positive = 10\n",
    "batch_size = 1024\n",
    "lr = 0.01\n",
    "weight_decay = 0.0005\n",
    "\n",
    "model_checkpoint = '/home/mou/Projects/UKGE-FL/results/unc_cn15k_distmult/lr_0.01_hidden_dim_128_confi_logi/best_model_ndcg_exp.pth'"
   ]
  },
  {
   "cell_type": "code",
   "execution_count": 27,
   "metadata": {},
   "outputs": [],
   "source": [
    "train_dataset = KGTripleDataset(dataset=dataset, split='train', num_neg_per_positive=num_neg_per_positive, deterministic=False)\n",
    "val_dataset = KGTripleDataset(dataset=dataset, split='val')\n",
    "test_dataset = KGTripleDataset(dataset=dataset, split='test')\n",
    "train_dataloader = DataLoader(train_dataset, batch_size=batch_size, shuffle=True)\n",
    "val_dataloader = DataLoader(val_dataset, batch_size=batch_size, shuffle=False)\n",
    "test_dataloader = DataLoader(test_dataset, batch_size=batch_size, shuffle=False)\n",
    "\n",
    "device = torch.device('cuda' if torch.cuda.is_available() else 'cpu')\n",
    "model = model_map[model](num_nodes=train_dataset.num_cons(), num_relations=train_dataset.num_rels(), hidden_channels=hidden_dim, confidence_score_function=confidence_score_function)\n",
    "\n",
    "model.load_state_dict(torch.load(model_checkpoint)['state_dict'])\n",
    "model = model.to(device)\n",
    "criterion = nn.MSELoss()\n",
    "optimizer = optim.Adam(model.parameters(), betas=(0.9, 0.999), lr=lr, weight_decay=weight_decay)\n",
    "\n",
    "\n",
    "test_evaluator = Evaluator(test_dataloader, model, batch_size=batch_size, device=device)\n"
   ]
  },
  {
   "cell_type": "code",
   "execution_count": 28,
   "metadata": {},
   "outputs": [],
   "source": [
    "pos_hrt, pos_target, neg_hn_rt, neg_hr_tn = next(iter(train_dataloader))\n",
    "pos_hrt, pos_target, neg_hn_rt, neg_hr_tn = pos_hrt.long(), pos_target.float(), neg_hn_rt.long(), neg_hr_tn.long()\n",
    "pos_hrt, pos_target, neg_hn_rt, neg_hr_tn = pos_hrt.to(device), pos_target.to(device), neg_hn_rt.to(device), neg_hr_tn.to(device) \n",
    "neg_hn_rt = neg_hn_rt.view(-1, neg_hn_rt.size(-1))\n",
    "neg_hr_tn = neg_hr_tn.view(-1, neg_hr_tn.size(-1))\n",
    "\n",
    "optimizer.zero_grad()\n",
    "pred_pos_score = model.get_confidence_score(pos_hrt[:, 0], pos_hrt[:, 1], pos_hrt[:, 2])\n",
    "pred_neg_hn_score = model.get_confidence_score(neg_hn_rt[:, 0], neg_hn_rt[:, 1], neg_hn_rt[:, 2])\n",
    "pred_neg_tn_score = model.get_confidence_score(neg_hr_tn[:, 0], neg_hr_tn[:, 1], neg_hr_tn[:, 2])\n",
    "neg_target = torch.zeros_like(pred_neg_hn_score)"
   ]
  },
  {
   "cell_type": "code",
   "execution_count": 29,
   "metadata": {},
   "outputs": [
    {
     "name": "stdout",
     "output_type": "stream",
     "text": [
      "pos_target: tensor([0.2754, 0.7093, 0.2341,  ..., 0.7093, 0.7093, 0.7093], device='cuda:0')\n",
      "pred_pos_score: tensor([0.3150, 0.3150, 0.3150,  ..., 0.3150, 0.3150, 0.3150], device='cuda:0',\n",
      "       grad_fn=<SigmoidBackward0>)\n",
      "pred_neg_hn_score: tensor([0.3150, 0.3150, 0.3150,  ..., 0.3150, 0.3150, 0.3150], device='cuda:0',\n",
      "       grad_fn=<SigmoidBackward0>)\n",
      "pred_neg_tn_score: tensor([0.3150, 0.3150, 0.3150,  ..., 0.3150, 0.3150, 0.3150], device='cuda:0',\n",
      "       grad_fn=<SigmoidBackward0>)\n"
     ]
    }
   ],
   "source": [
    "print('pos_target:', pos_target)\n",
    "print('pred_pos_score:', pred_pos_score)\n",
    "print('pred_neg_hn_score:', pred_neg_hn_score)\n",
    "print('pred_neg_tn_score:', pred_neg_tn_score)"
   ]
  },
  {
   "cell_type": "code",
   "execution_count": null,
   "metadata": {},
   "outputs": [],
   "source": []
  },
  {
   "cell_type": "code",
   "execution_count": 30,
   "metadata": {},
   "outputs": [],
   "source": [
    "pos_loss = criterion(pred_pos_score, pos_target)\n",
    "neg_loss = (criterion(pred_neg_hn_score, neg_target) + criterion(pred_neg_tn_score, neg_target)) / 2\n",
    "loss = pos_loss + neg_loss\n",
    "loss.backward()\n",
    "optimizer.step()"
   ]
  },
  {
   "cell_type": "code",
   "execution_count": 31,
   "metadata": {},
   "outputs": [],
   "source": [
    "\n",
    "pred_pos_score = model.get_confidence_score(pos_hrt[:, 0], pos_hrt[:, 1], pos_hrt[:, 2])\n",
    "pred_neg_hn_score = model.get_confidence_score(neg_hn_rt[:, 0], neg_hn_rt[:, 1], neg_hn_rt[:, 2])\n",
    "pred_neg_tn_score = model.get_confidence_score(neg_hr_tn[:, 0], neg_hr_tn[:, 1], neg_hr_tn[:, 2])"
   ]
  },
  {
   "cell_type": "code",
   "execution_count": 32,
   "metadata": {},
   "outputs": [
    {
     "name": "stdout",
     "output_type": "stream",
     "text": [
      "pos_target: tensor([0.2754, 0.7093, 0.2341,  ..., 0.7093, 0.7093, 0.7093], device='cuda:0')\n",
      "pred_pos_score: tensor([0.3172, 0.3172, 0.3172,  ..., 0.3172, 0.3172, 0.3172], device='cuda:0',\n",
      "       grad_fn=<SigmoidBackward0>)\n"
     ]
    }
   ],
   "source": [
    "print('pos_target:', pos_target)\n",
    "print('pred_pos_score:', pred_pos_score)"
   ]
  },
  {
   "cell_type": "code",
   "execution_count": 33,
   "metadata": {},
   "outputs": [
    {
     "name": "stdout",
     "output_type": "stream",
     "text": [
      "weights\n",
      "tensor([-5.6144e-08], device='cuda:0')\n",
      "bias\n",
      "tensor([-0.7667], device='cuda:0')\n",
      "node_emb.weight\n",
      "tensor([[-3.4082e-32,  5.9898e-32, -7.3074e-33,  ...,  3.7819e-33,\n",
      "          6.3872e-33, -6.2951e-32],\n",
      "        [ 5.1940e-34, -5.5328e-28, -7.5746e-33,  ..., -8.0890e-32,\n",
      "         -1.7348e-32,  7.0222e-32],\n",
      "        [-2.2738e-32, -7.1393e-32,  3.3184e-32,  ..., -7.0916e-32,\n",
      "          1.0592e-32,  3.5184e-32],\n",
      "        ...,\n",
      "        [-6.2515e-32, -5.4535e-32, -5.6645e-32,  ..., -6.1746e-32,\n",
      "          5.7382e-32, -4.2419e-32],\n",
      "        [ 2.8476e-32, -1.1275e-28,  8.2830e-32,  ...,  1.6614e-33,\n",
      "          8.8556e-32, -1.0183e-31],\n",
      "        [-4.8744e-32,  5.9291e-32,  6.0774e-32,  ...,  5.3987e-32,\n",
      "         -5.8261e-32,  6.6685e-32]], device='cuda:0')\n",
      "rel_emb.weight\n",
      "tensor([[-7.9749e-20,  9.0417e-16, -4.9120e-16,  ...,  4.1401e-16,\n",
      "          3.1908e-15,  1.6092e-14],\n",
      "        [ 6.1925e-31,  1.0016e-20, -1.9920e-29,  ..., -5.1944e-27,\n",
      "         -1.2896e-31, -6.9439e-16],\n",
      "        [-1.2168e-22, -2.0298e-15,  6.5807e-14,  ...,  3.2348e-16,\n",
      "         -8.2677e-26, -1.2716e-14],\n",
      "        ...,\n",
      "        [ 7.5224e-32,  3.5019e-31, -2.1810e-31,  ...,  1.9251e-31,\n",
      "         -2.0374e-31,  2.3091e-31],\n",
      "        [-1.7522e-32, -1.0377e-31,  1.9427e-32,  ...,  2.0531e-31,\n",
      "         -1.1405e-31,  3.9537e-31],\n",
      "        [-1.9564e-31, -1.0204e-31,  4.6278e-31,  ..., -4.8969e-31,\n",
      "         -1.4214e-31, -5.6911e-31]], device='cuda:0')\n"
     ]
    }
   ],
   "source": [
    "model_state_dict = model.state_dict()\n",
    "for key in model_state_dict.keys():\n",
    "    print(key)\n",
    "    print(model_state_dict[key])"
   ]
  },
  {
   "cell_type": "code",
   "execution_count": 34,
   "metadata": {},
   "outputs": [
    {
     "name": "stdout",
     "output_type": "stream",
     "text": [
      "Updating hr_scores_map...\n"
     ]
    },
    {
     "name": "stderr",
     "output_type": "stream",
     "text": [
      "100%|██████████| 8063/8063 [01:25<00:00, 94.38it/s] \n"
     ]
    }
   ],
   "source": [
    "model.eval()\n",
    "test_evaluator.update_hr_scores_map()\n",
    "test_mean_ndcg = test_evaluator.get_mean_ndcg()\n",
    "test_mse = test_evaluator.get_mse()\n",
    "test_mae = test_evaluator.get_mae()"
   ]
  },
  {
   "cell_type": "code",
   "execution_count": 35,
   "metadata": {},
   "outputs": [
    {
     "name": "stdout",
     "output_type": "stream",
     "text": [
      "0.25829725123496183\n",
      "0.5873160022511443\n",
      "0.1352762755276738\n",
      "0.13376590751617082\n"
     ]
    }
   ],
   "source": [
    "print(test_mse)\n",
    "print(test_mae)\n",
    "print(test_mean_ndcg[0])\n",
    "print(test_mean_ndcg[1])"
   ]
  },
  {
   "cell_type": "code",
   "execution_count": 36,
   "metadata": {},
   "outputs": [],
   "source": [
    "hrtw_map = test_evaluator.hrtw_map\n",
    "hr_scores_map = test_evaluator.hr_scores_map"
   ]
  },
  {
   "cell_type": "code",
   "execution_count": 37,
   "metadata": {},
   "outputs": [],
   "source": [
    "hrt = [[h, r, t, hrtw_map[h][r][t], hr_scores_map[h][r][t]] for h in hrtw_map.keys() for r in hrtw_map[h].keys() for t in hrtw_map[h][r].keys()]\n",
    "hrt_df = pd.DataFrame(hrt, columns=['head', 'tail', 'relation', 'score', 'prediction'])"
   ]
  },
  {
   "cell_type": "code",
   "execution_count": 38,
   "metadata": {},
   "outputs": [],
   "source": [
    "hrt_df.to_csv('hrt_df.csv', index=False)"
   ]
  },
  {
   "cell_type": "code",
   "execution_count": 39,
   "metadata": {},
   "outputs": [],
   "source": [
    "pos_hrt, pos_target = next(iter(test_dataloader))\n",
    "pos_hrt, pos_target = pos_hrt.long(), pos_target.float()\n",
    "pos_hrt, pos_target = pos_hrt.to(device), pos_target.to(device)\n",
    "head_emb, rel_emb, tail_emb = model.get_embeddings(pos_hrt[:, 0], pos_hrt[:, 1], pos_hrt[:, 2])"
   ]
  },
  {
   "cell_type": "code",
   "execution_count": 40,
   "metadata": {},
   "outputs": [
    {
     "name": "stdout",
     "output_type": "stream",
     "text": [
      "torch.Size([1024, 128]) torch.Size([1024, 128]) torch.Size([1024, 128])\n",
      "tensor([[ 3.3727e-32,  1.9407e-23, -7.2701e-32,  ..., -7.2631e-33,\n",
      "         -3.0053e-29, -7.4555e-32],\n",
      "        [ 8.4886e-34,  1.0690e-23,  3.9289e-33,  ...,  8.0028e-32,\n",
      "          4.0820e-32,  4.1573e-32],\n",
      "        [ 5.8744e-32, -1.8589e-32, -1.2300e-32,  ..., -5.0476e-32,\n",
      "         -7.2368e-32,  8.9714e-32],\n",
      "        ...,\n",
      "        [-4.5248e-32, -7.4693e-32, -5.5655e-32,  ...,  7.3185e-31,\n",
      "          1.1890e-30,  4.8946e-30],\n",
      "        [-5.8880e-32,  9.3092e-31,  4.9502e-32,  ..., -4.6989e-31,\n",
      "         -9.4953e-33, -1.7723e-31],\n",
      "        [ 5.3846e-32, -4.6955e-32,  5.9569e-32,  ..., -4.6016e-32,\n",
      "         -5.8411e-32, -1.7823e-32]], device='cuda:0',\n",
      "       grad_fn=<EmbeddingBackward0>) tensor([[-7.9749e-20,  9.0417e-16, -4.9120e-16,  ...,  4.1401e-16,\n",
      "          3.1908e-15,  1.6092e-14],\n",
      "        [-7.9749e-20,  9.0417e-16, -4.9120e-16,  ...,  4.1401e-16,\n",
      "          3.1908e-15,  1.6092e-14],\n",
      "        [-7.9749e-20,  9.0417e-16, -4.9120e-16,  ...,  4.1401e-16,\n",
      "          3.1908e-15,  1.6092e-14],\n",
      "        ...,\n",
      "        [ 3.9970e-31, -3.3635e-31,  2.4346e-31,  ...,  1.2985e-24,\n",
      "          6.2483e-31, -5.7214e-31],\n",
      "        [-7.9749e-20,  9.0417e-16, -4.9120e-16,  ...,  4.1401e-16,\n",
      "          3.1908e-15,  1.6092e-14],\n",
      "        [-7.9749e-20,  9.0417e-16, -4.9120e-16,  ...,  4.1401e-16,\n",
      "          3.1908e-15,  1.6092e-14]], device='cuda:0',\n",
      "       grad_fn=<EmbeddingBackward0>) tensor([[-2.0382e-16, -4.9325e-32, -7.4406e-28,  ...,  8.4188e-32,\n",
      "          4.4516e-32,  6.1652e-32],\n",
      "        [ 5.7292e-32,  5.9820e-30, -7.3176e-32,  ..., -5.3017e-31,\n",
      "          9.1185e-08,  1.1858e-26],\n",
      "        [ 8.2691e-32, -4.3674e-32,  3.3078e-32,  ..., -2.0914e-29,\n",
      "          4.4843e-32, -5.9944e-32],\n",
      "        ...,\n",
      "        [-3.2054e-33,  2.5293e-32, -4.3420e-32,  ...,  3.5095e-14,\n",
      "          6.1062e-32,  3.9467e-32],\n",
      "        [ 8.7380e-32,  1.2127e-32, -1.9106e-32,  ..., -5.4512e-31,\n",
      "          5.6822e-32, -5.0333e-33],\n",
      "        [-5.0131e-20,  4.2367e-16, -4.0545e-32,  ...,  4.3830e-32,\n",
      "          5.5119e-34, -2.7412e-33]], device='cuda:0',\n",
      "       grad_fn=<EmbeddingBackward0>)\n"
     ]
    }
   ],
   "source": [
    "print(head_emb.shape, rel_emb.shape, tail_emb.shape)\n",
    "print(head_emb, rel_emb, tail_emb)"
   ]
  },
  {
   "cell_type": "code",
   "execution_count": 41,
   "metadata": {},
   "outputs": [
    {
     "name": "stdout",
     "output_type": "stream",
     "text": [
      "tensor([-4.5654e-42,  9.8091e-45,  0.0000e+00,  ...,  0.0000e+00,\n",
      "        -8.7946e-22,  1.0344e-40], device='cuda:0', grad_fn=<SumBackward1>)\n"
     ]
    }
   ],
   "source": [
    "plau_score = model.get_plausibility_score(pos_hrt[:, 0], pos_hrt[:, 1], pos_hrt[:, 2])\n",
    "print(plau_score)"
   ]
  },
  {
   "cell_type": "code",
   "execution_count": 42,
   "metadata": {},
   "outputs": [
    {
     "name": "stdout",
     "output_type": "stream",
     "text": [
      "tensor([0.3172, 0.3172, 0.3172,  ..., 0.3172, 0.3172, 0.3172], device='cuda:0',\n",
      "       grad_fn=<SigmoidBackward0>)\n"
     ]
    }
   ],
   "source": [
    "conf_score = model.get_confidence_score(pos_hrt[:, 0], pos_hrt[:, 1], pos_hrt[:, 2])\n",
    "print(conf_score)"
   ]
  },
  {
   "cell_type": "code",
   "execution_count": 43,
   "metadata": {},
   "outputs": [
    {
     "name": "stdout",
     "output_type": "stream",
     "text": [
      "Parameter containing:\n",
      "tensor([-5.6144e-08], device='cuda:0', requires_grad=True) Parameter containing:\n",
      "tensor([-0.7667], device='cuda:0', requires_grad=True)\n"
     ]
    }
   ],
   "source": [
    "print(model.fc_in, model.fc_out)"
   ]
  }
 ],
 "metadata": {
  "kernelspec": {
   "display_name": "ukge",
   "language": "python",
   "name": "python3"
  },
  "language_info": {
   "codemirror_mode": {
    "name": "ipython",
    "version": 3
   },
   "file_extension": ".py",
   "mimetype": "text/x-python",
   "name": "python",
   "nbconvert_exporter": "python",
   "pygments_lexer": "ipython3",
   "version": "3.11.8"
  }
 },
 "nbformat": 4,
 "nbformat_minor": 2
}
