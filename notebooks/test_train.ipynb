{
 "cells": [
  {
   "cell_type": "code",
   "execution_count": 1,
   "metadata": {},
   "outputs": [],
   "source": [
    "import os\n",
    "import os.path as osp\n",
    "import numpy as np\n",
    "import pandas as pd\n",
    "import argparse\n",
    "\n",
    "from typing import Tuple, List, Dict, Any\n",
    "\n",
    "from ukge.datasets import KGTripleDataset\n",
    "from ukge.losses import compute_det_transe_distmult_loss, compute_det_complex_loss, compute_det_rotate_loss\n",
    "from ukge.metrics import Evaluator\n",
    "\n",
    "\n",
    "from typing import Tuple, List, Dict, Any\n",
    "import torch.nn.functional as F\n",
    "from torch import Tensor\n",
    "from torch.nn import Embedding\n",
    "\n",
    "import torch\n",
    "import torch.optim as optim\n",
    "import torch.nn as nn\n",
    "from torch.utils.data import DataLoader\n",
    "\n",
    "# os.environ[\"CUDA_VISIBLE_DEVICES\"] = \"0\"\n",
    "\n",
    "model = 'distmult'\n",
    "dataset = 'cn15k'\n",
    "confidence_score_function = 'logi'\n",
    "hidden_dim = 128\n",
    "num_neg_per_positive = 10\n",
    "batch_size = 1024\n",
    "lr = 0.01\n",
    "weight_decay = 0.005\n",
    "\n",
    "model_checkpoint = '/home/mou/Projects/UKGE-FL/results/unc_cn15k_distmult_confi_logi/lr_0.01_wd_0.0_dim_128/best_model_ndcg_lin_topk.pth'"
   ]
  },
  {
   "cell_type": "code",
   "execution_count": null,
   "metadata": {},
   "outputs": [],
   "source": [
    "class KGEModel(torch.nn.Module):\n",
    "    def __init__(\n",
    "        self,\n",
    "        num_nodes: int,\n",
    "        num_relations: int,\n",
    "        hidden_channels: int,\n",
    "        sparse: bool = False\n",
    "    ):\n",
    "        super().__init__()\n",
    "        self.num_nodes = num_nodes\n",
    "        self.num_relations = num_relations\n",
    "        self.hidden_channels = hidden_channels\n",
    "        self.node_emb = Embedding(num_nodes, hidden_channels, sparse=sparse)\n",
    "        self.rel_emb = Embedding(num_relations, hidden_channels, sparse=sparse)\n",
    "        self.fc = torch.nn.Sequential(\n",
    "            # torch.nn.Linear(1, 1, bias=True),\n",
    "            # torch.nn.Linear(1, 32, bias=True),\n",
    "            # torch.nn.ReLU(inplace=True),\n",
    "            # torch.nn.Linear(32, 32, bias=False),\n",
    "            # torch.nn.ReLU(inplace=True),\n",
    "            # torch.nn.Linear(32, 1, bias=False),\n",
    "            torch.nn.Sigmoid()\n",
    "        )\n",
    "\n",
    "    def reset_parameters(self):\n",
    "        self.node_emb.reset_parameters()\n",
    "        self.rel_emb.reset_parameters()\n",
    "\n",
    "    def forward(\n",
    "        self,\n",
    "        head_index: Tensor,\n",
    "        rel_type: Tensor,\n",
    "        tail_index: Tensor,\n",
    "    ) -> Tensor:\n",
    "        raise NotImplementedError\n",
    "    \n",
    "    def get_embeddings(\n",
    "        self,\n",
    "        head_index: Tensor,\n",
    "        rel_type: Tensor,\n",
    "        tail_index: Tensor,\n",
    "    ):\n",
    "        raise NotImplementedError\n",
    "    \n",
    "    def get_plausibility_score(\n",
    "        self,\n",
    "        head_index: Tensor,\n",
    "        rel_type: Tensor,\n",
    "        tail_index: Tensor,\n",
    "    ) -> Tensor:\n",
    "        raise NotImplementedError\n",
    "\n",
    "    def get_confidence_score(\n",
    "        self,\n",
    "        head_index: Tensor,\n",
    "        rel_type: Tensor,\n",
    "        tail_index: Tensor,\n",
    "    ) -> Tensor:\n",
    "        raise NotImplementedError\n",
    "    \n",
    "class DistMult(KGEModel):\n",
    "    def __init__(\n",
    "        self,\n",
    "        num_nodes: int,\n",
    "        num_relations: int,\n",
    "        hidden_channels: int,\n",
    "        sparse: bool = False,\n",
    "        confidence_score_function: str = \"logi\",\n",
    "    ):\n",
    "        super().__init__(num_nodes, num_relations, hidden_channels, sparse)\n",
    "        self.confidence_score_function = confidence_score_function\n",
    "        self.reset_parameters()\n",
    "\n",
    "    def reset_parameters(self):\n",
    "        torch.nn.init.xavier_uniform_(self.node_emb.weight)\n",
    "        torch.nn.init.xavier_uniform_(self.rel_emb.weight)\n",
    "\n",
    "    def forward(\n",
    "        self,\n",
    "        head_index: Tensor,\n",
    "        rel_type: Tensor,\n",
    "        tail_index: Tensor,\n",
    "    ) -> Tensor:\n",
    "        head = self.node_emb(head_index)\n",
    "        rel = self.rel_emb(rel_type)\n",
    "        tail = self.node_emb(tail_index)\n",
    "        return (head * rel * tail).sum(dim=-1)\n",
    "\n",
    "    def get_embeddings(\n",
    "        self,\n",
    "        head_index: Tensor,\n",
    "        rel_type: Tensor,\n",
    "        tail_index: Tensor,\n",
    "    ) -> Tuple[Tensor, Tensor, Tensor]:\n",
    "        head = self.node_emb(head_index)\n",
    "        rel = self.rel_emb(rel_type)\n",
    "        tail = self.node_emb(tail_index)\n",
    "        return head, rel, tail\n",
    "    \n",
    "    def get_confidence_score(\n",
    "        self,\n",
    "        head_index: Tensor,\n",
    "        rel_type: Tensor,\n",
    "        tail_index: Tensor\n",
    "    ) -> Tensor:\n",
    "        head = self.node_emb(head_index)\n",
    "        rel = self.rel_emb(rel_type)\n",
    "        tail = self.node_emb(tail_index)\n",
    "        plausibility_score = (head * rel * tail).sum(dim=-1)\n",
    "        if self.confidence_score_function == \"logi\":\n",
    "            return torch.sigmoid(self.fc(plausibility_score.view(-1, 1)).view(-1))\n",
    "        elif self.confidence_score_function == \"rect\":\n",
    "            return torch.clamp(self.fc(plausibility_score.view(-1, 1)).view(-1), min=0, max=1)\n",
    "\n",
    "    def get_plausibility_score(\n",
    "        self,\n",
    "        head_index: Tensor,\n",
    "        rel_type: Tensor,\n",
    "        tail_index: Tensor,\n",
    "    ) -> Tensor:\n",
    "        return self.forward(head_index, rel_type, tail_index)"
   ]
  },
  {
   "cell_type": "code",
   "execution_count": 2,
   "metadata": {},
   "outputs": [],
   "source": [
    "train_dataset = KGTripleDataset(dataset=dataset, split='train', num_neg_per_positive=num_neg_per_positive, deterministic=False)\n",
    "val_dataset = KGTripleDataset(dataset=dataset, split='val')\n",
    "test_dataset = KGTripleDataset(dataset=dataset, split='test')\n",
    "train_dataloader = DataLoader(train_dataset, batch_size=batch_size, shuffle=True)\n",
    "val_dataloader = DataLoader(val_dataset, batch_size=batch_size, shuffle=False)\n",
    "test_dataloader = DataLoader(test_dataset, batch_size=batch_size, shuffle=False)\n",
    "\n",
    "device = torch.device('cuda' if torch.cuda.is_available() else 'cpu')\n",
    "\n",
    "model = DistMult(num_nodes=train_dataset.num_cons(), num_relations=train_dataset.num_rels(), hidden_channels=hidden_dim, confidence_score_function=confidence_score_function)\n",
    "\n",
    "model.load_state_dict(torch.load(model_checkpoint)['state_dict'])\n",
    "model = model.to(device)\n",
    "criterion = nn.MSELoss()\n",
    "optimizer = optim.Adam(model.parameters(), betas=(0.9, 0.999), lr=lr, weight_decay=weight_decay)\n",
    "\n",
    "\n",
    "test_evaluator = Evaluator(test_dataloader, model, batch_size=batch_size, device=device)\n"
   ]
  },
  {
   "cell_type": "code",
   "execution_count": 3,
   "metadata": {},
   "outputs": [],
   "source": [
    "pos_hrt, pos_target, neg_hn_rt, neg_hr_tn = next(iter(train_dataloader))\n",
    "pos_hrt, pos_target, neg_hn_rt, neg_hr_tn = pos_hrt.long(), pos_target.float(), neg_hn_rt.long(), neg_hr_tn.long()\n",
    "pos_hrt, pos_target, neg_hn_rt, neg_hr_tn = pos_hrt.to(device), pos_target.to(device), neg_hn_rt.to(device), neg_hr_tn.to(device) \n",
    "neg_hn_rt = neg_hn_rt.view(-1, neg_hn_rt.size(-1))\n",
    "neg_hr_tn = neg_hr_tn.view(-1, neg_hr_tn.size(-1))\n",
    "\n",
    "optimizer.zero_grad()\n",
    "pred_pos_score = model.get_confidence_score(pos_hrt[:, 0], pos_hrt[:, 1], pos_hrt[:, 2])\n",
    "pred_neg_hn_score = model.get_confidence_score(neg_hn_rt[:, 0], neg_hn_rt[:, 1], neg_hn_rt[:, 2])\n",
    "pred_neg_tn_score = model.get_confidence_score(neg_hr_tn[:, 0], neg_hr_tn[:, 1], neg_hr_tn[:, 2])\n",
    "neg_target = torch.zeros_like(pred_neg_hn_score)"
   ]
  },
  {
   "cell_type": "code",
   "execution_count": 4,
   "metadata": {},
   "outputs": [
    {
     "name": "stdout",
     "output_type": "stream",
     "text": [
      "pos_target: tensor([0.8927, 0.7093, 0.7093,  ..., 0.4727, 0.7093, 0.7093], device='cuda:0')\n",
      "pred_pos_score: tensor([0.5045, 0.5045, 0.5045,  ..., 0.5045, 0.5045, 0.5045], device='cuda:0',\n",
      "       grad_fn=<SigmoidBackward0>)\n",
      "pred_neg_hn_score: tensor([0.5045, 0.5045, 0.5045,  ..., 0.5045, 0.5045, 0.5045], device='cuda:0',\n",
      "       grad_fn=<SigmoidBackward0>)\n",
      "pred_neg_tn_score: tensor([0.5045, 0.5045, 0.5045,  ..., 0.5045, 0.5045, 0.5045], device='cuda:0',\n",
      "       grad_fn=<SigmoidBackward0>)\n"
     ]
    }
   ],
   "source": [
    "print('pos_target:', pos_target)\n",
    "print('pred_pos_score:', pred_pos_score)\n",
    "print('pred_neg_hn_score:', pred_neg_hn_score)\n",
    "print('pred_neg_tn_score:', pred_neg_tn_score)"
   ]
  },
  {
   "cell_type": "code",
   "execution_count": 5,
   "metadata": {},
   "outputs": [],
   "source": [
    "pos_loss = criterion(pred_pos_score, pos_target)\n",
    "neg_loss = (criterion(pred_neg_hn_score, neg_target) + criterion(pred_neg_tn_score, neg_target)) / 2\n",
    "loss = pos_loss + neg_loss\n",
    "loss.backward()\n",
    "optimizer.step()"
   ]
  },
  {
   "cell_type": "code",
   "execution_count": 6,
   "metadata": {},
   "outputs": [],
   "source": [
    "\n",
    "pred_pos_score = model.get_confidence_score(pos_hrt[:, 0], pos_hrt[:, 1], pos_hrt[:, 2])\n",
    "pred_neg_hn_score = model.get_confidence_score(neg_hn_rt[:, 0], neg_hn_rt[:, 1], neg_hn_rt[:, 2])\n",
    "pred_neg_tn_score = model.get_confidence_score(neg_hr_tn[:, 0], neg_hr_tn[:, 1], neg_hr_tn[:, 2])"
   ]
  },
  {
   "cell_type": "code",
   "execution_count": 7,
   "metadata": {},
   "outputs": [
    {
     "name": "stdout",
     "output_type": "stream",
     "text": [
      "pos_target: tensor([0.8927, 0.7093, 0.7093,  ..., 0.4727, 0.7093, 0.7093], device='cuda:0')\n",
      "pred_pos_score: tensor([0.5029, 0.5029, 0.5029,  ..., 0.5029, 0.5029, 0.5029], device='cuda:0',\n",
      "       grad_fn=<SigmoidBackward0>)\n"
     ]
    }
   ],
   "source": [
    "print('pos_target:', pos_target)\n",
    "print('pred_pos_score:', pred_pos_score)"
   ]
  },
  {
   "cell_type": "code",
   "execution_count": 8,
   "metadata": {},
   "outputs": [
    {
     "name": "stdout",
     "output_type": "stream",
     "text": [
      "node_emb.weight\n",
      "tensor([[ 1.9253e-08, -2.6548e-08, -1.0348e-08,  ..., -3.0833e-08,\n",
      "          2.8742e-08,  1.7306e-08],\n",
      "        [ 2.4741e-08,  1.2975e-08, -4.0982e-08,  ..., -2.5963e-08,\n",
      "         -4.7117e-08, -1.5245e-09],\n",
      "        [-2.4240e-08, -1.7536e-09, -6.4314e-10,  ..., -1.4605e-09,\n",
      "          3.6167e-08,  4.3762e-08],\n",
      "        ...,\n",
      "        [-4.1555e-08, -4.0360e-08,  4.8920e-08,  ...,  3.4273e-08,\n",
      "         -2.5535e-09,  1.9661e-08],\n",
      "        [ 4.3286e-08, -1.6908e-08, -3.3596e-08,  ..., -7.0039e-08,\n",
      "         -3.4603e-10,  3.0957e-08],\n",
      "        [-1.8841e-08, -1.2777e-08,  1.5567e-08,  ...,  3.6009e-08,\n",
      "          3.6712e-08,  2.8677e-09]], device='cuda:0')\n",
      "rel_emb.weight\n",
      "tensor([[-2.6009e-08, -6.7773e-07, -4.5543e-07,  ...,  2.1239e-07,\n",
      "          3.9273e-07,  6.0972e-07],\n",
      "        [ 4.8184e-08, -4.4124e-07,  4.1636e-07,  ..., -4.3142e-07,\n",
      "         -1.2952e-07, -1.9767e-09],\n",
      "        [-2.8186e-07, -2.3445e-08,  4.4095e-07,  ..., -6.4428e-07,\n",
      "          3.4258e-09, -3.3607e-07],\n",
      "        ...,\n",
      "        [ 3.1483e-07, -2.1245e-07,  5.0262e-07,  ...,  3.8508e-07,\n",
      "          5.0449e-07,  1.8153e-07],\n",
      "        [-6.4263e-08, -1.5157e-07, -6.3267e-07,  ..., -5.3479e-07,\n",
      "         -1.2561e-07, -2.7914e-08],\n",
      "        [-2.4806e-07, -5.7711e-07,  1.9430e-07,  ...,  3.5045e-07,\n",
      "          3.6728e-07,  3.5842e-07]], device='cuda:0')\n",
      "fc.0.weight\n",
      "tensor([[-4.1084e-07],\n",
      "        [ 9.9524e-06],\n",
      "        [ 5.7262e-06],\n",
      "        [ 4.2099e-06],\n",
      "        [ 7.4033e-07],\n",
      "        [ 9.3794e-07],\n",
      "        [ 1.7766e-06],\n",
      "        [-6.3830e-07],\n",
      "        [-1.9440e-08],\n",
      "        [-4.8341e-08],\n",
      "        [ 1.8182e-06],\n",
      "        [-4.1914e-05],\n",
      "        [-7.9969e-07],\n",
      "        [-2.8493e-04],\n",
      "        [ 2.4514e-06],\n",
      "        [ 4.7232e-04],\n",
      "        [-2.8363e-07],\n",
      "        [-2.7865e-06],\n",
      "        [-4.3242e-06],\n",
      "        [ 4.4750e-07],\n",
      "        [ 2.9845e-06],\n",
      "        [ 4.2299e-04],\n",
      "        [-8.9398e-07],\n",
      "        [ 1.4803e-06],\n",
      "        [ 5.1337e-07],\n",
      "        [ 9.2689e-07],\n",
      "        [-7.6715e-07],\n",
      "        [ 2.9338e-05],\n",
      "        [-2.5830e-06],\n",
      "        [-1.7657e-05],\n",
      "        [ 1.9412e-04],\n",
      "        [ 5.8059e-07]], device='cuda:0')\n",
      "fc.0.bias\n",
      "tensor([2.5068e-01, 1.4016e-02, 1.2644e-02, 1.2878e-02, 1.4228e-02, 4.9826e-04,\n",
      "        2.3477e-01, 4.1111e-01, 1.5009e-02, 1.2508e-02, 6.1982e-03, 1.5936e-01,\n",
      "        4.3741e-01, 6.9111e-03, 8.7704e-03, 1.7137e-01, 1.4153e-01, 1.3903e-02,\n",
      "        9.9927e-03, 4.6788e-01, 7.5322e-02, 1.4785e-02, 2.5327e-03, 5.1326e-04,\n",
      "        1.3475e-02, 3.5038e-01, 1.7598e-03, 4.0098e-01, 5.3709e-01, 5.4841e-02,\n",
      "        8.1920e-04, 8.8168e-03], device='cuda:0')\n",
      "fc.2.weight\n",
      "tensor([[ 8.6440e-02,  1.0724e-02, -7.7456e-03,  ...,  2.4190e-02,\n",
      "          2.8741e-03,  4.3768e-03],\n",
      "        [ 7.1342e-02,  1.0233e-02, -3.7270e-04,  ...,  2.1361e-02,\n",
      "          8.6079e-04,  3.8277e-03],\n",
      "        [-1.0835e-03,  4.7559e-03,  7.6620e-03,  ...,  1.0629e-02,\n",
      "          2.0131e-04,  6.9392e-04],\n",
      "        ...,\n",
      "        [ 6.8294e-02,  1.0097e-02,  9.4775e-03,  ...,  2.0784e-02,\n",
      "          7.2303e-04,  2.8537e-03],\n",
      "        [ 1.0353e-02,  9.6067e-04,  1.3775e-03,  ...,  6.9965e-03,\n",
      "          1.7600e-05,  1.1546e-04],\n",
      "        [ 2.6571e-02, -8.3997e-03,  6.2983e-03,  ..., -6.5280e-03,\n",
      "         -6.2766e-04,  1.0960e-03]], device='cuda:0')\n",
      "fc.2.bias\n",
      "tensor([0.3269, 0.2648, 0.0444, 0.0503, 0.0417, 0.3722, 0.2612, 0.0132, 0.0290,\n",
      "        0.2141, 0.2825, 0.3743, 0.0343, 0.1824, 0.0570, 0.0123, 0.0403, 0.3158,\n",
      "        0.0466, 0.1247, 0.0251, 0.0083, 0.2774, 0.0390, 0.0060, 0.2592, 0.0149,\n",
      "        0.2156, 0.0121, 0.2523, 0.0146, 0.0794], device='cuda:0')\n",
      "fc.4.weight\n",
      "tensor([[-0.4894, -0.3952, -0.0620, -0.0710, -0.0579, -0.5583, -0.3898, -0.0150,\n",
      "         -0.0387, -0.3179, -0.4221, -0.5618, -0.0467, -0.2706, -0.0810, -0.0138,\n",
      "         -0.0560, -0.4725, -0.0653, -0.1833, -0.0329, -0.0091, -0.4140, -0.0538,\n",
      "         -0.0070, -0.3864, -0.0176, -0.3211, -0.0135, -0.3760, -0.0171, -0.1143]],\n",
      "       device='cuda:0')\n",
      "fc.4.bias\n",
      "tensor([-0.5865], device='cuda:0')\n"
     ]
    }
   ],
   "source": [
    "model_state_dict = model.state_dict()\n",
    "for key in model_state_dict.keys():\n",
    "    print(key)\n",
    "    print(model_state_dict[key])"
   ]
  },
  {
   "cell_type": "code",
   "execution_count": 9,
   "metadata": {},
   "outputs": [
    {
     "name": "stdout",
     "output_type": "stream",
     "text": [
      "Updating hr_scores_map...\n"
     ]
    },
    {
     "name": "stderr",
     "output_type": "stream",
     "text": [
      "100%|██████████| 8063/8063 [02:08<00:00, 62.70it/s]\n"
     ]
    }
   ],
   "source": [
    "model.eval()\n",
    "test_evaluator.update_hr_scores_map()\n",
    "test_mean_ndcg = test_evaluator.get_mean_ndcg()\n",
    "test_mse = test_evaluator.get_mse()\n",
    "test_mae = test_evaluator.get_mae()"
   ]
  },
  {
   "cell_type": "code",
   "execution_count": 10,
   "metadata": {},
   "outputs": [
    {
     "name": "stdout",
     "output_type": "stream",
     "text": [
      "0.1155225036682467\n",
      "0.3899015522221222\n",
      "0.1352762755276738\n",
      "0.13376590751617082\n"
     ]
    }
   ],
   "source": [
    "print(test_mse)\n",
    "print(test_mae)\n",
    "print(test_mean_ndcg[0])\n",
    "print(test_mean_ndcg[1])"
   ]
  },
  {
   "cell_type": "code",
   "execution_count": 11,
   "metadata": {},
   "outputs": [],
   "source": [
    "hrtw_map = test_evaluator.hrtw_map\n",
    "hr_scores_map = test_evaluator.hr_scores_map"
   ]
  },
  {
   "cell_type": "code",
   "execution_count": 12,
   "metadata": {},
   "outputs": [],
   "source": [
    "hrt = [[h, r, t, hrtw_map[h][r][t], hr_scores_map[h][r][t]] for h in hrtw_map.keys() for r in hrtw_map[h].keys() for t in hrtw_map[h][r].keys()]\n",
    "hrt_df = pd.DataFrame(hrt, columns=['head', 'tail', 'relation', 'score', 'prediction'])"
   ]
  },
  {
   "cell_type": "code",
   "execution_count": 13,
   "metadata": {},
   "outputs": [],
   "source": [
    "hrt_df.to_csv('hrt_df.csv', index=False)"
   ]
  },
  {
   "cell_type": "code",
   "execution_count": 14,
   "metadata": {},
   "outputs": [],
   "source": [
    "pos_hrt, pos_target = next(iter(test_dataloader))\n",
    "pos_hrt, pos_target = pos_hrt.long(), pos_target.float()\n",
    "pos_hrt, pos_target = pos_hrt.to(device), pos_target.to(device)\n",
    "head_emb, rel_emb, tail_emb = model.get_embeddings(pos_hrt[:, 0], pos_hrt[:, 1], pos_hrt[:, 2])"
   ]
  },
  {
   "cell_type": "code",
   "execution_count": 15,
   "metadata": {},
   "outputs": [
    {
     "name": "stdout",
     "output_type": "stream",
     "text": [
      "torch.Size([1024, 128]) torch.Size([1024, 128]) torch.Size([1024, 128])\n",
      "tensor([[-3.5075e-08,  1.4886e-08,  4.9449e-08,  ...,  2.4516e-08,\n",
      "          8.8256e-09, -8.8739e-10],\n",
      "        [-5.1392e-08,  2.1621e-08,  1.9248e-08,  ...,  2.5856e-08,\n",
      "          6.7141e-08, -1.7149e-08],\n",
      "        [ 1.8038e-08, -4.3188e-08,  3.4360e-08,  ..., -4.8237e-08,\n",
      "          3.9831e-08, -2.4388e-08],\n",
      "        ...,\n",
      "        [ 2.0910e-08,  2.1317e-08, -3.1947e-08,  ..., -1.1974e-09,\n",
      "         -4.6361e-08, -1.0598e-08],\n",
      "        [ 4.0297e-08, -3.8707e-08, -1.4418e-08,  ..., -2.9823e-08,\n",
      "          3.4802e-08,  5.8962e-08],\n",
      "        [ 5.2300e-08, -8.9901e-09,  7.7820e-09,  ...,  8.9428e-09,\n",
      "          1.3770e-08, -3.2088e-08]], device='cuda:0',\n",
      "       grad_fn=<EmbeddingBackward0>) tensor([[-2.6009e-08, -6.7773e-07, -4.5543e-07,  ...,  2.1239e-07,\n",
      "          3.9273e-07,  6.0972e-07],\n",
      "        [-2.6009e-08, -6.7773e-07, -4.5543e-07,  ...,  2.1239e-07,\n",
      "          3.9273e-07,  6.0972e-07],\n",
      "        [-2.6009e-08, -6.7773e-07, -4.5543e-07,  ...,  2.1239e-07,\n",
      "          3.9273e-07,  6.0972e-07],\n",
      "        ...,\n",
      "        [ 2.5078e-08,  2.7126e-08,  1.7574e-07,  ..., -6.1084e-08,\n",
      "          6.9307e-08,  7.8643e-08],\n",
      "        [-2.6009e-08, -6.7773e-07, -4.5543e-07,  ...,  2.1239e-07,\n",
      "          3.9273e-07,  6.0972e-07],\n",
      "        [-2.6009e-08, -6.7773e-07, -4.5543e-07,  ...,  2.1239e-07,\n",
      "          3.9273e-07,  6.0972e-07]], device='cuda:0',\n",
      "       grad_fn=<EmbeddingBackward0>) tensor([[ 3.6717e-08, -2.9084e-08, -2.4445e-08,  ..., -2.8799e-08,\n",
      "          1.7259e-08, -1.4024e-08],\n",
      "        [-3.0683e-09,  9.4712e-09, -2.9164e-08,  ..., -6.6381e-08,\n",
      "          4.9784e-08,  3.4744e-08],\n",
      "        [-4.2911e-08,  2.6031e-08, -2.6749e-08,  ...,  2.1933e-08,\n",
      "          6.0867e-08, -5.7442e-09],\n",
      "        ...,\n",
      "        [-1.9014e-09,  3.1612e-08,  2.2507e-08,  ..., -3.1674e-08,\n",
      "         -3.4857e-08,  3.1675e-08],\n",
      "        [-3.3333e-08, -3.1096e-08, -3.1828e-08,  ..., -2.0698e-08,\n",
      "         -2.5319e-08,  4.7669e-08],\n",
      "        [ 2.9800e-09,  2.2021e-08, -3.0807e-08,  ..., -2.7318e-08,\n",
      "         -4.4230e-08, -3.3236e-08]], device='cuda:0',\n",
      "       grad_fn=<EmbeddingBackward0>)\n"
     ]
    }
   ],
   "source": [
    "print(head_emb.shape, rel_emb.shape, tail_emb.shape)\n",
    "print(head_emb, rel_emb, tail_emb)"
   ]
  },
  {
   "cell_type": "code",
   "execution_count": 16,
   "metadata": {},
   "outputs": [
    {
     "name": "stdout",
     "output_type": "stream",
     "text": [
      "tensor([-1.2898e-22, -3.9098e-21,  3.4631e-21,  ...,  6.5781e-21,\n",
      "         4.1331e-21,  2.7280e-21], device='cuda:0', grad_fn=<SumBackward1>)\n"
     ]
    }
   ],
   "source": [
    "plau_score = model.get_plausibility_score(pos_hrt[:, 0], pos_hrt[:, 1], pos_hrt[:, 2])\n",
    "print(plau_score)"
   ]
  },
  {
   "cell_type": "code",
   "execution_count": 17,
   "metadata": {},
   "outputs": [
    {
     "name": "stdout",
     "output_type": "stream",
     "text": [
      "tensor([0.5029, 0.5029, 0.5029,  ..., 0.5029, 0.5029, 0.5029], device='cuda:0',\n",
      "       grad_fn=<SigmoidBackward0>)\n"
     ]
    }
   ],
   "source": [
    "conf_score = model.get_confidence_score(pos_hrt[:, 0], pos_hrt[:, 1], pos_hrt[:, 2])\n",
    "print(conf_score)"
   ]
  },
  {
   "cell_type": "code",
   "execution_count": 18,
   "metadata": {},
   "outputs": [
    {
     "name": "stdout",
     "output_type": "stream",
     "text": [
      "Linear(in_features=1, out_features=32, bias=True)\n",
      "Parameter containing:\n",
      "tensor([[-4.1084e-07],\n",
      "        [ 9.9524e-06],\n",
      "        [ 5.7262e-06],\n",
      "        [ 4.2099e-06],\n",
      "        [ 7.4033e-07],\n",
      "        [ 9.3794e-07],\n",
      "        [ 1.7766e-06],\n",
      "        [-6.3830e-07],\n",
      "        [-1.9440e-08],\n",
      "        [-4.8341e-08],\n",
      "        [ 1.8182e-06],\n",
      "        [-4.1914e-05],\n",
      "        [-7.9969e-07],\n",
      "        [-2.8493e-04],\n",
      "        [ 2.4514e-06],\n",
      "        [ 4.7232e-04],\n",
      "        [-2.8363e-07],\n",
      "        [-2.7865e-06],\n",
      "        [-4.3242e-06],\n",
      "        [ 4.4750e-07],\n",
      "        [ 2.9845e-06],\n",
      "        [ 4.2299e-04],\n",
      "        [-8.9398e-07],\n",
      "        [ 1.4803e-06],\n",
      "        [ 5.1337e-07],\n",
      "        [ 9.2689e-07],\n",
      "        [-7.6715e-07],\n",
      "        [ 2.9338e-05],\n",
      "        [-2.5830e-06],\n",
      "        [-1.7657e-05],\n",
      "        [ 1.9412e-04],\n",
      "        [ 5.8059e-07]], device='cuda:0', requires_grad=True)\n",
      "Parameter containing:\n",
      "tensor([2.5068e-01, 1.4016e-02, 1.2644e-02, 1.2878e-02, 1.4228e-02, 4.9826e-04,\n",
      "        2.3477e-01, 4.1111e-01, 1.5009e-02, 1.2508e-02, 6.1982e-03, 1.5936e-01,\n",
      "        4.3741e-01, 6.9111e-03, 8.7704e-03, 1.7137e-01, 1.4153e-01, 1.3903e-02,\n",
      "        9.9927e-03, 4.6788e-01, 7.5322e-02, 1.4785e-02, 2.5327e-03, 5.1326e-04,\n",
      "        1.3475e-02, 3.5038e-01, 1.7598e-03, 4.0098e-01, 5.3709e-01, 5.4841e-02,\n",
      "        8.1920e-04, 8.8168e-03], device='cuda:0', requires_grad=True)\n",
      "ReLU(inplace=True)\n",
      "Linear(in_features=32, out_features=32, bias=True)\n",
      "Parameter containing:\n",
      "tensor([[ 8.6440e-02,  1.0724e-02, -7.7456e-03,  ...,  2.4190e-02,\n",
      "          2.8741e-03,  4.3768e-03],\n",
      "        [ 7.1342e-02,  1.0233e-02, -3.7270e-04,  ...,  2.1361e-02,\n",
      "          8.6079e-04,  3.8277e-03],\n",
      "        [-1.0835e-03,  4.7559e-03,  7.6620e-03,  ...,  1.0629e-02,\n",
      "          2.0131e-04,  6.9392e-04],\n",
      "        ...,\n",
      "        [ 6.8294e-02,  1.0097e-02,  9.4775e-03,  ...,  2.0784e-02,\n",
      "          7.2303e-04,  2.8537e-03],\n",
      "        [ 1.0353e-02,  9.6067e-04,  1.3775e-03,  ...,  6.9965e-03,\n",
      "          1.7600e-05,  1.1546e-04],\n",
      "        [ 2.6571e-02, -8.3997e-03,  6.2983e-03,  ..., -6.5280e-03,\n",
      "         -6.2766e-04,  1.0960e-03]], device='cuda:0', requires_grad=True)\n",
      "Parameter containing:\n",
      "tensor([0.3269, 0.2648, 0.0444, 0.0503, 0.0417, 0.3722, 0.2612, 0.0132, 0.0290,\n",
      "        0.2141, 0.2825, 0.3743, 0.0343, 0.1824, 0.0570, 0.0123, 0.0403, 0.3158,\n",
      "        0.0466, 0.1247, 0.0251, 0.0083, 0.2774, 0.0390, 0.0060, 0.2592, 0.0149,\n",
      "        0.2156, 0.0121, 0.2523, 0.0146, 0.0794], device='cuda:0',\n",
      "       requires_grad=True)\n",
      "ReLU(inplace=True)\n",
      "Linear(in_features=32, out_features=1, bias=True)\n",
      "Parameter containing:\n",
      "tensor([[-0.4894, -0.3952, -0.0620, -0.0710, -0.0579, -0.5583, -0.3898, -0.0150,\n",
      "         -0.0387, -0.3179, -0.4221, -0.5618, -0.0467, -0.2706, -0.0810, -0.0138,\n",
      "         -0.0560, -0.4725, -0.0653, -0.1833, -0.0329, -0.0091, -0.4140, -0.0538,\n",
      "         -0.0070, -0.3864, -0.0176, -0.3211, -0.0135, -0.3760, -0.0171, -0.1143]],\n",
      "       device='cuda:0', requires_grad=True)\n",
      "Parameter containing:\n",
      "tensor([-0.5865], device='cuda:0', requires_grad=True)\n",
      "Sigmoid()\n"
     ]
    }
   ],
   "source": [
    "for m in model.fc:\n",
    "    print(m)\n",
    "    if isinstance(m, nn.Linear):\n",
    "        print(m.weight)\n",
    "        print(m.bias)"
   ]
  }
 ],
 "metadata": {
  "kernelspec": {
   "display_name": "ukge",
   "language": "python",
   "name": "python3"
  },
  "language_info": {
   "codemirror_mode": {
    "name": "ipython",
    "version": 3
   },
   "file_extension": ".py",
   "mimetype": "text/x-python",
   "name": "python",
   "nbconvert_exporter": "python",
   "pygments_lexer": "ipython3",
   "version": "3.11.8"
  }
 },
 "nbformat": 4,
 "nbformat_minor": 2
}
