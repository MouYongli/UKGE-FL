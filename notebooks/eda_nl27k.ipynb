{
 "cells": [
  {
   "cell_type": "code",
   "execution_count": 2,
   "metadata": {},
   "outputs": [],
   "source": [
    "import os \n",
    "import os.path as osp\n",
    "import numpy as np\n",
    "import pandas as pd\n",
    "import matplotlib.pyplot as plt\n",
    "import seaborn as sns\n",
    "\n",
    "data_path = osp.join('..', 'data', 'nl27k')\n",
    "train_path = osp.join(data_path, 'train.tsv')\n",
    "val_path = osp.join(data_path, 'val.tsv')\n",
    "test_path = osp.join(data_path, 'test.tsv')\n",
    "\n",
    "entity_id = pd.read_csv(osp.join(data_path, 'entity_id.csv'))\n",
    "relation_id = pd.read_csv(osp.join(data_path, 'relation_id.csv'))"
   ]
  },
  {
   "cell_type": "code",
   "execution_count": 3,
   "metadata": {},
   "outputs": [
    {
     "data": {
      "text/html": [
       "<div>\n",
       "<style scoped>\n",
       "    .dataframe tbody tr th:only-of-type {\n",
       "        vertical-align: middle;\n",
       "    }\n",
       "\n",
       "    .dataframe tbody tr th {\n",
       "        vertical-align: top;\n",
       "    }\n",
       "\n",
       "    .dataframe thead th {\n",
       "        text-align: right;\n",
       "    }\n",
       "</style>\n",
       "<table border=\"1\" class=\"dataframe\">\n",
       "  <thead>\n",
       "    <tr style=\"text-align: right;\">\n",
       "      <th></th>\n",
       "      <th>0</th>\n",
       "      <th>1</th>\n",
       "      <th>2</th>\n",
       "      <th>3</th>\n",
       "    </tr>\n",
       "  </thead>\n",
       "  <tbody>\n",
       "    <tr>\n",
       "      <th>0</th>\n",
       "      <td>12888</td>\n",
       "      <td>272</td>\n",
       "      <td>4800</td>\n",
       "      <td>0.859375</td>\n",
       "    </tr>\n",
       "    <tr>\n",
       "      <th>1</th>\n",
       "      <td>12888</td>\n",
       "      <td>272</td>\n",
       "      <td>12393</td>\n",
       "      <td>0.437500</td>\n",
       "    </tr>\n",
       "    <tr>\n",
       "      <th>2</th>\n",
       "      <td>25104</td>\n",
       "      <td>256</td>\n",
       "      <td>25017</td>\n",
       "      <td>0.999966</td>\n",
       "    </tr>\n",
       "    <tr>\n",
       "      <th>3</th>\n",
       "      <td>25104</td>\n",
       "      <td>256</td>\n",
       "      <td>7501</td>\n",
       "      <td>0.437500</td>\n",
       "    </tr>\n",
       "    <tr>\n",
       "      <th>4</th>\n",
       "      <td>25104</td>\n",
       "      <td>256</td>\n",
       "      <td>2396</td>\n",
       "      <td>0.718750</td>\n",
       "    </tr>\n",
       "  </tbody>\n",
       "</table>\n",
       "</div>"
      ],
      "text/plain": [
       "       0    1      2         3\n",
       "0  12888  272   4800  0.859375\n",
       "1  12888  272  12393  0.437500\n",
       "2  25104  256  25017  0.999966\n",
       "3  25104  256   7501  0.437500\n",
       "4  25104  256   2396  0.718750"
      ]
     },
     "execution_count": 3,
     "metadata": {},
     "output_type": "execute_result"
    }
   ],
   "source": [
    "train_df = pd.read_csv(train_path, sep='\\t', header=None)\n",
    "train_df.head()"
   ]
  },
  {
   "cell_type": "code",
   "execution_count": 4,
   "metadata": {},
   "outputs": [
    {
     "name": "stderr",
     "output_type": "stream",
     "text": [
      "/tmp/ipykernel_3418477/2616627044.py:2: UserWarning: \n",
      "\n",
      "`distplot` is a deprecated function and will be removed in seaborn v0.14.0.\n",
      "\n",
      "Please adapt your code to use either `displot` (a figure-level function with\n",
      "similar flexibility) or `histplot` (an axes-level function for histograms).\n",
      "\n",
      "For a guide to updating your code to use the new functions, please see\n",
      "https://gist.github.com/mwaskom/de44147ed2974457ad6372750bbe5751\n",
      "\n",
      "  sns.distplot(train_df[3])\n"
     ]
    },
    {
     "data": {
      "text/plain": [
       "<Axes: xlabel='3', ylabel='Density'>"
      ]
     },
     "execution_count": 4,
     "metadata": {},
     "output_type": "execute_result"
    },
    {
     "data": {
      "image/png": "[encoded data removed]",
      "text/plain": [
       "<Figure size 640x480 with 1 Axes>"
      ]
     },
     "metadata": {},
     "output_type": "display_data"
    }
   ],
   "source": [
    "# plot the distribution of the column 3\n",
    "sns.distplot(train_df[3])"
   ]
  },
  {
   "cell_type": "code",
   "execution_count": 5,
   "metadata": {},
   "outputs": [
    {
     "name": "stdout",
     "output_type": "stream",
     "text": [
      "t=0.00: 100.00\n",
      "t=0.05: 100.00\n",
      "t=0.10: 100.00\n",
      "t=0.15: 99.94\n",
      "t=0.20: 99.88\n",
      "t=0.25: 99.82\n",
      "t=0.30: 99.76\n",
      "t=0.35: 99.69\n",
      "t=0.40: 99.61\n",
      "t=0.45: 71.12\n",
      "t=0.50: 71.02\n",
      "t=0.55: 70.94\n",
      "t=0.60: 70.87\n",
      "t=0.65: 70.80\n",
      "t=0.70: 70.70\n",
      "t=0.75: 64.02\n",
      "t=0.80: 63.90\n",
      "t=0.85: 63.71\n",
      "t=0.90: 52.42\n",
      "t=0.95: 48.81\n"
     ]
    }
   ],
   "source": [
    "for t in np.arange(0, 1, 0.05):\n",
    "    print(f\"t={t:.2f}: {np.sum(train_df[3] > t)*100/len(train_df):.2f}\")"
   ]
  }
 ],
 "metadata": {
  "kernelspec": {
   "display_name": "ukge",
   "language": "python",
   "name": "python3"
  },
  "language_info": {
   "codemirror_mode": {
    "name": "ipython",
    "version": 3
   },
   "file_extension": ".py",
   "mimetype": "text/x-python",
   "name": "python",
   "nbconvert_exporter": "python",
   "pygments_lexer": "ipython3",
   "version": "3.11.8"
  }
 },
 "nbformat": 4,
 "nbformat_minor": 2
}
